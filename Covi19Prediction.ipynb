{
 "cells": [
  {
   "cell_type": "code",
   "execution_count": 1,
   "id": "8fede830",
   "metadata": {},
   "outputs": [],
   "source": [
    "#importing all the libraries required\n",
    "import pandas as pd\n",
    "import numpy as np \n",
    "import matplotlib.pyplot as plt\n",
    "import seaborn as sns\n",
    "\n",
    "import requests\n",
    "import json\n",
    "from win10toast import ToastNotifier\n",
    "from time import sleep"
   ]
  },
  {
   "cell_type": "code",
   "execution_count": 2,
   "id": "64847a56",
   "metadata": {},
   "outputs": [],
   "source": [
    "#importing all the datasets used\n",
    "#df is for the whole country(here the dataset used is for INDIA)\n",
    "df= pd.read_csv(r'Downloads\\IndiaCovid.csv',parse_dates=['Date'])   #till 29.05.2022\n",
    "#f is for statewise(here the states used are of INDIA)\n",
    "f= pd.read_csv(r'Desktop\\Statewise.csv',parse_dates=['Date'])\n"
   ]
  },
  {
   "cell_type": "code",
   "execution_count": 3,
   "id": "0be0dbaf",
   "metadata": {
    "scrolled": true
   },
   "outputs": [
    {
     "name": "stdout",
     "output_type": "stream",
     "text": [
      "Cases in INDIA(From 12-March-2020 to 29-June-2022):\n"
     ]
    },
    {
     "data": {
      "text/html": [
       "<div>\n",
       "<style scoped>\n",
       "    .dataframe tbody tr th:only-of-type {\n",
       "        vertical-align: middle;\n",
       "    }\n",
       "\n",
       "    .dataframe tbody tr th {\n",
       "        vertical-align: top;\n",
       "    }\n",
       "\n",
       "    .dataframe thead th {\n",
       "        text-align: right;\n",
       "    }\n",
       "</style>\n",
       "<table border=\"1\" class=\"dataframe\">\n",
       "  <thead>\n",
       "    <tr style=\"text-align: right;\">\n",
       "      <th></th>\n",
       "      <th>Date</th>\n",
       "      <th>Confirmed Cases</th>\n",
       "      <th>Cured/Discharged</th>\n",
       "      <th>Death</th>\n",
       "    </tr>\n",
       "  </thead>\n",
       "  <tbody>\n",
       "    <tr>\n",
       "      <th>0</th>\n",
       "      <td>2020-03-12</td>\n",
       "      <td>24</td>\n",
       "      <td>3</td>\n",
       "      <td>0</td>\n",
       "    </tr>\n",
       "    <tr>\n",
       "      <th>1</th>\n",
       "      <td>2020-03-13</td>\n",
       "      <td>45</td>\n",
       "      <td>3</td>\n",
       "      <td>1</td>\n",
       "    </tr>\n",
       "    <tr>\n",
       "      <th>2</th>\n",
       "      <td>2020-03-14</td>\n",
       "      <td>84</td>\n",
       "      <td>10</td>\n",
       "      <td>2</td>\n",
       "    </tr>\n",
       "    <tr>\n",
       "      <th>3</th>\n",
       "      <td>2020-03-15</td>\n",
       "      <td>107</td>\n",
       "      <td>10</td>\n",
       "      <td>2</td>\n",
       "    </tr>\n",
       "    <tr>\n",
       "      <th>4</th>\n",
       "      <td>2020-03-16</td>\n",
       "      <td>114</td>\n",
       "      <td>13</td>\n",
       "      <td>2</td>\n",
       "    </tr>\n",
       "    <tr>\n",
       "      <th>...</th>\n",
       "      <td>...</td>\n",
       "      <td>...</td>\n",
       "      <td>...</td>\n",
       "      <td>...</td>\n",
       "    </tr>\n",
       "    <tr>\n",
       "      <th>774</th>\n",
       "      <td>2022-05-25</td>\n",
       "      <td>43142192</td>\n",
       "      <td>42602714</td>\n",
       "      <td>524520</td>\n",
       "    </tr>\n",
       "    <tr>\n",
       "      <th>775</th>\n",
       "      <td>2022-05-26</td>\n",
       "      <td>43144820</td>\n",
       "      <td>42604881</td>\n",
       "      <td>524525</td>\n",
       "    </tr>\n",
       "    <tr>\n",
       "      <th>776</th>\n",
       "      <td>2022-05-27</td>\n",
       "      <td>43147530</td>\n",
       "      <td>42607177</td>\n",
       "      <td>524539</td>\n",
       "    </tr>\n",
       "    <tr>\n",
       "      <th>777</th>\n",
       "      <td>2022-05-28</td>\n",
       "      <td>43150215</td>\n",
       "      <td>42609335</td>\n",
       "      <td>524585</td>\n",
       "    </tr>\n",
       "    <tr>\n",
       "      <th>778</th>\n",
       "      <td>2022-05-29</td>\n",
       "      <td>43153043</td>\n",
       "      <td>42611370</td>\n",
       "      <td>524586</td>\n",
       "    </tr>\n",
       "  </tbody>\n",
       "</table>\n",
       "<p>779 rows × 4 columns</p>\n",
       "</div>"
      ],
      "text/plain": [
       "          Date  Confirmed Cases  Cured/Discharged   Death\n",
       "0   2020-03-12               24                 3       0\n",
       "1   2020-03-13               45                 3       1\n",
       "2   2020-03-14               84                10       2\n",
       "3   2020-03-15              107                10       2\n",
       "4   2020-03-16              114                13       2\n",
       "..         ...              ...               ...     ...\n",
       "774 2022-05-25         43142192          42602714  524520\n",
       "775 2022-05-26         43144820          42604881  524525\n",
       "776 2022-05-27         43147530          42607177  524539\n",
       "777 2022-05-28         43150215          42609335  524585\n",
       "778 2022-05-29         43153043          42611370  524586\n",
       "\n",
       "[779 rows x 4 columns]"
      ]
     },
     "execution_count": 3,
     "metadata": {},
     "output_type": "execute_result"
    }
   ],
   "source": [
    "print(\"Cases in INDIA(From 12-March-2020 to 29-June-2022):\")\n",
    "df\n"
   ]
  },
  {
   "cell_type": "code",
   "execution_count": 4,
   "id": "4951619c",
   "metadata": {},
   "outputs": [
    {
     "name": "stdout",
     "output_type": "stream",
     "text": [
      "Cases-Statewise:\n"
     ]
    },
    {
     "data": {
      "text/html": [
       "<div>\n",
       "<style scoped>\n",
       "    .dataframe tbody tr th:only-of-type {\n",
       "        vertical-align: middle;\n",
       "    }\n",
       "\n",
       "    .dataframe tbody tr th {\n",
       "        vertical-align: top;\n",
       "    }\n",
       "\n",
       "    .dataframe thead th {\n",
       "        text-align: right;\n",
       "    }\n",
       "</style>\n",
       "<table border=\"1\" class=\"dataframe\">\n",
       "  <thead>\n",
       "    <tr style=\"text-align: right;\">\n",
       "      <th></th>\n",
       "      <th>Date</th>\n",
       "      <th>State_Name</th>\n",
       "      <th>Confirmed</th>\n",
       "      <th>Deceased</th>\n",
       "      <th>Recovered</th>\n",
       "    </tr>\n",
       "  </thead>\n",
       "  <tbody>\n",
       "    <tr>\n",
       "      <th>0</th>\n",
       "      <td>2020-03-14</td>\n",
       "      <td>Andaman and Nicobar Islands</td>\n",
       "      <td>0</td>\n",
       "      <td>0</td>\n",
       "      <td>0</td>\n",
       "    </tr>\n",
       "    <tr>\n",
       "      <th>1</th>\n",
       "      <td>2020-03-14</td>\n",
       "      <td>Andhra Pradesh</td>\n",
       "      <td>1</td>\n",
       "      <td>0</td>\n",
       "      <td>0</td>\n",
       "    </tr>\n",
       "    <tr>\n",
       "      <th>2</th>\n",
       "      <td>2020-03-14</td>\n",
       "      <td>Arunachal Pradesh</td>\n",
       "      <td>0</td>\n",
       "      <td>0</td>\n",
       "      <td>0</td>\n",
       "    </tr>\n",
       "    <tr>\n",
       "      <th>3</th>\n",
       "      <td>2020-03-14</td>\n",
       "      <td>Assam</td>\n",
       "      <td>0</td>\n",
       "      <td>0</td>\n",
       "      <td>0</td>\n",
       "    </tr>\n",
       "    <tr>\n",
       "      <th>4</th>\n",
       "      <td>2020-03-14</td>\n",
       "      <td>Bihar</td>\n",
       "      <td>0</td>\n",
       "      <td>0</td>\n",
       "      <td>0</td>\n",
       "    </tr>\n",
       "    <tr>\n",
       "      <th>...</th>\n",
       "      <td>...</td>\n",
       "      <td>...</td>\n",
       "      <td>...</td>\n",
       "      <td>...</td>\n",
       "      <td>...</td>\n",
       "    </tr>\n",
       "    <tr>\n",
       "      <th>5397</th>\n",
       "      <td>2020-08-06</td>\n",
       "      <td>Telangana</td>\n",
       "      <td>2092</td>\n",
       "      <td>13</td>\n",
       "      <td>1289</td>\n",
       "    </tr>\n",
       "    <tr>\n",
       "      <th>5398</th>\n",
       "      <td>2020-08-06</td>\n",
       "      <td>Tripura</td>\n",
       "      <td>98</td>\n",
       "      <td>1</td>\n",
       "      <td>68</td>\n",
       "    </tr>\n",
       "    <tr>\n",
       "      <th>5399</th>\n",
       "      <td>2020-08-06</td>\n",
       "      <td>Uttar Pradesh</td>\n",
       "      <td>4586</td>\n",
       "      <td>61</td>\n",
       "      <td>2844</td>\n",
       "    </tr>\n",
       "    <tr>\n",
       "      <th>5400</th>\n",
       "      <td>2020-08-06</td>\n",
       "      <td>Uttarakhand</td>\n",
       "      <td>369</td>\n",
       "      <td>4</td>\n",
       "      <td>194</td>\n",
       "    </tr>\n",
       "    <tr>\n",
       "      <th>5401</th>\n",
       "      <td>2020-08-06</td>\n",
       "      <td>West Bengal</td>\n",
       "      <td>2954</td>\n",
       "      <td>56</td>\n",
       "      <td>2061</td>\n",
       "    </tr>\n",
       "  </tbody>\n",
       "</table>\n",
       "<p>5402 rows × 5 columns</p>\n",
       "</div>"
      ],
      "text/plain": [
       "           Date                   State_Name  Confirmed  Deceased  Recovered\n",
       "0    2020-03-14  Andaman and Nicobar Islands          0         0          0\n",
       "1    2020-03-14               Andhra Pradesh          1         0          0\n",
       "2    2020-03-14            Arunachal Pradesh          0         0          0\n",
       "3    2020-03-14                        Assam          0         0          0\n",
       "4    2020-03-14                        Bihar          0         0          0\n",
       "...         ...                          ...        ...       ...        ...\n",
       "5397 2020-08-06                    Telangana       2092        13       1289\n",
       "5398 2020-08-06                      Tripura         98         1         68\n",
       "5399 2020-08-06                Uttar Pradesh       4586        61       2844\n",
       "5400 2020-08-06                  Uttarakhand        369         4        194\n",
       "5401 2020-08-06                  West Bengal       2954        56       2061\n",
       "\n",
       "[5402 rows x 5 columns]"
      ]
     },
     "execution_count": 4,
     "metadata": {},
     "output_type": "execute_result"
    }
   ],
   "source": [
    "print(\"Cases-Statewise:\")\n",
    "f"
   ]
  },
  {
   "cell_type": "code",
   "execution_count": 5,
   "id": "55305e9c",
   "metadata": {},
   "outputs": [
    {
     "name": "stdout",
     "output_type": "stream",
     "text": [
      "The list after removing duplicates : ['Andaman and Nicobar Islands', 'Andhra Pradesh', 'Arunachal Pradesh', 'Assam', 'Bihar', 'Chandigarh', 'Chhattisgarh', 'Dadra and Nagar Haveli and Daman and Diu', 'Daman and Diu', 'Delhi', 'Goa', 'Gujarat', 'Haryana', 'Himachal Pradesh', 'Jammu and Kashmir', 'Jharkhand', 'Karnataka', 'Kerala', 'Ladakh', 'Lakshadweep', 'Madhya Pradesh', 'Maharashtra', 'Manipur', 'Meghalaya', 'Mizoram', 'Nagaland', 'Odisha', 'Puducherry', 'Punjab', 'Rajasthan', 'Sikkim', 'Tamil Nadu', 'Telangana', 'Tripura', 'Uttar Pradesh', 'Uttarakhand', 'West Bengal']\n"
     ]
    }
   ],
   "source": [
    "States= f['State_Name'].tolist()\n",
    "\n",
    "#print(\"the list of a single column from the dataframe\\n\",States,type(States))\n",
    "res = []\n",
    "for i in States:\n",
    "    if i not in res:\n",
    "        res.append(i)\n",
    "  \n",
    "# printing list after removal \n",
    "print (\"The list after removing duplicates : \" + str(res))"
   ]
  },
  {
   "cell_type": "code",
   "execution_count": 6,
   "id": "422e4630",
   "metadata": {},
   "outputs": [
    {
     "name": "stdout",
     "output_type": "stream",
     "text": [
      "The states are:\n",
      "Andaman and Nicobar Islands\n",
      "Andhra Pradesh\n",
      "Arunachal Pradesh\n",
      "Assam\n",
      "Bihar\n",
      "Chandigarh\n",
      "Chhattisgarh\n",
      "Dadra and Nagar Haveli and Daman and Diu\n",
      "Daman and Diu\n",
      "Delhi\n",
      "Goa\n",
      "Gujarat\n",
      "Haryana\n",
      "Himachal Pradesh\n",
      "Jammu and Kashmir\n",
      "Jharkhand\n",
      "Karnataka\n",
      "Kerala\n",
      "Ladakh\n",
      "Lakshadweep\n",
      "Madhya Pradesh\n",
      "Maharashtra\n",
      "Manipur\n",
      "Meghalaya\n",
      "Mizoram\n",
      "Nagaland\n",
      "Odisha\n",
      "Puducherry\n",
      "Punjab\n",
      "Rajasthan\n",
      "Sikkim\n",
      "Tamil Nadu\n",
      "Telangana\n",
      "Tripura\n",
      "Uttar Pradesh\n",
      "Uttarakhand\n",
      "West Bengal\n"
     ]
    }
   ],
   "source": [
    "print(\"The states are:\")\n",
    "for i in res:\n",
    "    print(i)"
   ]
  },
  {
   "cell_type": "code",
   "execution_count": 7,
   "id": "5b66044d",
   "metadata": {
    "scrolled": true
   },
   "outputs": [
    {
     "name": "stdout",
     "output_type": "stream",
     "text": [
      "The graph for confirmed cases vs date in Gregorian Ordinal\n"
     ]
    },
    {
     "data": {
      "text/plain": [
       "<AxesSubplot:xlabel='date', ylabel='confirmed'>"
      ]
     },
     "execution_count": 7,
     "metadata": {},
     "output_type": "execute_result"
    },
    {
     "data": {
      "image/png": "[encoded data removed]",
      "text/plain": [
       "<Figure size 432x288 with 1 Axes>"
      ]
     },
     "metadata": {
      "needs_background": "light"
     },
     "output_type": "display_data"
    }
   ],
   "source": [
    "#Analyzing the data\n",
    "#converting date into GregorianOrdinal\n",
    "import datetime as dt\n",
    "df['Date']=df['Date'].map(dt.datetime.toordinal)\n",
    "df.columns=['date','confirmed','cured','death']\n",
    "print(\"The graph for confirmed cases vs date in Gregorian Ordinal\")\n",
    "sns.lineplot(x='date',y='confirmed',data=df)\n"
   ]
  },
  {
   "cell_type": "code",
   "execution_count": 8,
   "id": "62ecb89e",
   "metadata": {
    "scrolled": true
   },
   "outputs": [
    {
     "name": "stdout",
     "output_type": "stream",
     "text": [
      "The barplot for COVID-19 in INDIA from 2020-2022 is:\n"
     ]
    },
    {
     "data": {
      "text/plain": [
       "<AxesSubplot:xlabel='date', ylabel='confirmed'>"
      ]
     },
     "execution_count": 8,
     "metadata": {},
     "output_type": "execute_result"
    },
    {
     "data": {
      "image/png": "[encoded data removed]",
      "text/plain": [
       "<Figure size 432x288 with 1 Axes>"
      ]
     },
     "metadata": {
      "needs_background": "light"
     },
     "output_type": "display_data"
    }
   ],
   "source": [
    "print(\"The barplot for COVID-19 in INDIA from 2020-2022 is:\")\n",
    "sns.barplot(x='date',y='confirmed',data=df)\n",
    "\n"
   ]
  },
  {
   "cell_type": "code",
   "execution_count": 9,
   "id": "8bea01c7",
   "metadata": {},
   "outputs": [],
   "source": [
    "#USING METHOD1:LINEAR REGRESSION\n",
    "#Dividing training and testing data into 0.8:0.2 ratio\n",
    "from sklearn.model_selection import train_test_split\n",
    "X_Axis=df['date']\n",
    "Y_Axis=df['confirmed']\n",
    "XTraining,XTesting,YTraining,YTesting=train_test_split(X_Axis,Y_Axis,test_size=0.2)\n"
   ]
  },
  {
   "cell_type": "code",
   "execution_count": 10,
   "id": "0322ca6e",
   "metadata": {},
   "outputs": [
    {
     "data": {
      "text/plain": [
       "[<matplotlib.lines.Line2D at 0x23fa46627c0>]"
      ]
     },
     "execution_count": 10,
     "metadata": {},
     "output_type": "execute_result"
    },
    {
     "data": {
      "image/png": "[encoded data removed]",
      "text/plain": [
       "<Figure size 432x288 with 1 Axes>"
      ]
     },
     "metadata": {
      "needs_background": "light"
     },
     "output_type": "display_data"
    }
   ],
   "source": [
    "#METHOD 1: LINEAR REGRESSION\n",
    "from sklearn.linear_model import LinearRegression\n",
    "lra=LinearRegression(fit_intercept=True)\n",
    "lra.fit(np.array(XTraining).reshape(-1,1),np.array(YTraining).reshape(-1,1))\n",
    "df.sort_values(by='confirmed',ascending=False)\n",
    "plt.scatter(XTraining,YTraining,color=\"red\")\n",
    "YpredictTraining=lra.predict(np.array(XTraining).reshape(-1,1))\n",
    "plt.plot(XTraining,lra.predict(np.array(XTraining).reshape(-1,1)), color='blue')\n",
    "    "
   ]
  },
  {
   "cell_type": "code",
   "execution_count": 11,
   "id": "66272cd7",
   "metadata": {},
   "outputs": [
    {
     "name": "stdout",
     "output_type": "stream",
     "text": [
      "Linear Regression to predict Number of cases:\n",
      "For the line Y=mX+c\n",
      "Best fit Coefficient m: [[65848.51019409]]\n",
      "Best fit Intercept c [-4.85692408e+10]\n"
     ]
    }
   ],
   "source": [
    "print(\"Linear Regression to predict Number of cases:\")\n",
    "print(\"For the line Y=mX+c\")\n",
    "print(\"Best fit Coefficient m:\",lra.coef_)\n",
    "print(\"Best fit Intercept c\",lra.intercept_)"
   ]
  },
  {
   "cell_type": "code",
   "execution_count": 12,
   "id": "62804239",
   "metadata": {},
   "outputs": [
    {
     "data": {
      "text/plain": [
       "574    738085\n",
       "633    738152\n",
       "621    738140\n",
       "70     737566\n",
       "133    737629\n",
       "        ...  \n",
       "387    737891\n",
       "372    737876\n",
       "598    738111\n",
       "142    737638\n",
       "686    738206\n",
       "Name: date, Length: 623, dtype: int64"
      ]
     },
     "execution_count": 12,
     "metadata": {},
     "output_type": "execute_result"
    }
   ],
   "source": [
    "XTraining"
   ]
  },
  {
   "cell_type": "code",
   "execution_count": 13,
   "id": "18ac02ab",
   "metadata": {
    "scrolled": true
   },
   "outputs": [],
   "source": [
    "#Variables for testing data\n",
    "Ypredicttesting=lra.predict(np.array(XTesting).reshape(-1,1))"
   ]
  },
  {
   "cell_type": "code",
   "execution_count": 14,
   "id": "8a019105",
   "metadata": {},
   "outputs": [],
   "source": [
    "from sklearn.metrics import r2_score\n",
    "r2 = r2_score(YTesting, Ypredicttesting)\n",
    "def error():\n",
    "    from sklearn.metrics import r2_score\n",
    "    from math import sqrt\n",
    "    print(\"R2 error for testing data of LINEAR REGRESSION\")\n",
    "    r2 = r2_score(YTesting, Ypredicttesting)\n",
    "    print('\\nR2 =', r2)"
   ]
  },
  {
   "cell_type": "code",
   "execution_count": 15,
   "id": "09cad4fa",
   "metadata": {},
   "outputs": [
    {
     "name": "stdout",
     "output_type": "stream",
     "text": [
      "R2 error for testing data of LINEAR REGRESSION\n",
      "\n",
      "R2 = 0.9622031633597496\n"
     ]
    }
   ],
   "source": [
    "error()"
   ]
  },
  {
   "cell_type": "code",
   "execution_count": 16,
   "id": "7c6aa06a",
   "metadata": {},
   "outputs": [
    {
     "name": "stdout",
     "output_type": "stream",
     "text": [
      "Enter a date in format YYYY-MM-DD2021-12-01\n",
      "738125\n",
      "Predicted Number Of Cases[cumulative] in INDIA using LINEAR REGRESSION for next 7 days from 2021-12-01 are:\n",
      "1 : [[35190766.44007874]]\n",
      "2 : [[35256614.95027161]]\n",
      "3 : [[35322463.46046448]]\n",
      "4 : [[35388311.97065735]]\n",
      "5 : [[35454160.48085022]]\n",
      "6 : [[35520008.99104309]]\n",
      "7 : [[35585857.50124359]]\n",
      "Approximate Daily Cumulative: [[35388311.97065844]]\n",
      "MINIMUM OF THE WEEK: [[35190766.44007874]]\n",
      "MAXIMUM OF THE WEEK: [[35585857.50124359]]\n",
      "THE MAXIMUM CASES CAN LIE BETWEEN THE RANGE: [[35190766.44007874]] - [[35585857.50124359]]  OR EVEN MORE IF COVID-19 GUIDELINES ARE NOT FOLLOWED AND THE SPREAD IS NOT STOPPED\n"
     ]
    }
   ],
   "source": [
    "#PREDICTION OF NUMBER OF CONFIRMED CASES FOR NEXT 1 WEEK\n",
    "Value=input(\"Enter a date in format YYYY-MM-DD\")\n",
    "from datetime import datetime\n",
    "ordinalvalue = dt.datetime.strptime(Value, '%Y-%m-%d').date()\n",
    "o=ordinalvalue.toordinal()\n",
    "print(o)\n",
    "if o>=737504:\n",
    "    print('Predicted Number Of Cases[cumulative] in INDIA using LINEAR REGRESSION for next 7 days from',Value,'are:')\n",
    "    sum=0\n",
    "    days=0\n",
    "    min=0\n",
    "    max=0\n",
    "    for k in range(0,7):\n",
    "        Predict2=lra.predict(np.array(o+k).reshape(-1,1))\n",
    "    \n",
    "        if Predict2<0:\n",
    "        \n",
    "            print(k+1,':','cases can range from 0 -','any value less or near to',k+2,\"day of the week\")\n",
    "        elif Predict2>0:    \n",
    "            print(k+1,':',Predict2)\n",
    "            sum+=Predict2\n",
    "            days=days+1\n",
    "            if max<Predict2:\n",
    "                max=Predict2\n",
    "            if min==0 :\n",
    "                min=Predict2\n",
    "            elif min>Predict2:\n",
    "                min=Predict2\n",
    "           \n",
    "            \n",
    "    print(\"Approximate Daily Cumulative:\",sum/days)\n",
    "    print(\"MINIMUM OF THE WEEK:\",min)\n",
    "    print(\"MAXIMUM OF THE WEEK:\",max)\n",
    "    print(\"THE MAXIMUM CASES CAN LIE BETWEEN THE RANGE:\",min,'-',max,\" OR EVEN MORE IF COVID-19 GUIDELINES ARE NOT FOLLOWED AND THE SPREAD IS NOT STOPPED\")\n",
    "else:\n",
    "    print(\"CORONAVIRUS OUTBREAK DID NOT START TILL THIS DATE, ENTER A CORRECT DATE FOR FORECAST\")\n"
   ]
  },
  {
   "cell_type": "code",
   "execution_count": 17,
   "id": "10b64018",
   "metadata": {},
   "outputs": [
    {
     "data": {
      "text/plain": [
       "PolynomialFeatures(degree=3)"
      ]
     },
     "execution_count": 17,
     "metadata": {},
     "output_type": "execute_result"
    }
   ],
   "source": [
    "#METHOD 2: POLYNOMIAL REGRESSION OF 3 DEGREE\n",
    "from sklearn.preprocessing import PolynomialFeatures\n",
    "pr=PolynomialFeatures(degree=3)\n",
    "XColumns=pr.fit_transform(np.array(XTraining).reshape(-1,1))\n",
    "lr=LinearRegression(fit_intercept=True)\n",
    "lr.fit(XColumns,YTraining)\n",
    "pr\n",
    "\n"
   ]
  },
  {
   "cell_type": "code",
   "execution_count": 18,
   "id": "dfde51ff",
   "metadata": {},
   "outputs": [
    {
     "name": "stdout",
     "output_type": "stream",
     "text": [
      "Model's coefficients are: [ 0.00000000e+00 -1.75431362e-05 -1.29474352e+01  1.17379052e-05]\n",
      "Model's intercept is: 2333750307316.832\n"
     ]
    }
   ],
   "source": [
    "\n",
    "print(\"Model's coefficients are:\",lr.coef_)\n",
    "print(\"Model's intercept is:\",lr.intercept_)"
   ]
  },
  {
   "cell_type": "code",
   "execution_count": 19,
   "id": "62c53b34",
   "metadata": {
    "scrolled": true
   },
   "outputs": [],
   "source": [
    "#YPredictTraining=lr.predict(np.sort(XColumns))\n",
    "#plt.scatter(XTraining,YTraining)\n",
    "#plt.xlabel(\"Date\")\n",
    "#plt.ylabel(\"Confirmed\")\n",
    "#plt.plot(XTraining,YPredictTraining,color='red')"
   ]
  },
  {
   "cell_type": "code",
   "execution_count": 20,
   "id": "549ca978",
   "metadata": {
    "scrolled": true
   },
   "outputs": [
    {
     "data": {
      "image/png": "[encoded data removed]",
      "text/plain": [
       "<Figure size 360x360 with 1 Axes>"
      ]
     },
     "metadata": {
      "needs_background": "light"
     },
     "output_type": "display_data"
    }
   ],
   "source": [
    "sns.lmplot(x=\"date\", y=\"confirmed\",data=df,\n",
    "           order=3, ci=None, scatter_kws={\"s\": 10});"
   ]
  },
  {
   "cell_type": "code",
   "execution_count": 21,
   "id": "e58e4c14",
   "metadata": {},
   "outputs": [
    {
     "name": "stdout",
     "output_type": "stream",
     "text": [
      "R2 FOR POLYNOMIAL RERESSION'S TESTING DATA\n",
      "\n",
      "R2 = 0.9649600136602514\n"
     ]
    }
   ],
   "source": [
    "from sklearn.metrics import r2_score\n",
    "from math import sqrt\n",
    "\n",
    "XcolumnsTesting=pr.fit_transform(np.array(XTesting).reshape(-1,1))\n",
    "lr.fit(XcolumnsTesting,YTesting)\n",
    "\n",
    "YPredicttestingPoly=lr.predict(np.sort(XcolumnsTesting))\n",
    "R2 = r2_score(YTesting,YPredicttestingPoly)\n",
    "print(\"R2 FOR POLYNOMIAL RERESSION'S TESTING DATA\")\n",
    "print('\\nR2 =', R2)"
   ]
  },
  {
   "cell_type": "code",
   "execution_count": 22,
   "id": "ce69e350",
   "metadata": {},
   "outputs": [
    {
     "name": "stdout",
     "output_type": "stream",
     "text": [
      "R2 IS GREATER THAN 0.95 i.e Reliable model\n"
     ]
    }
   ],
   "source": [
    "if R2>0.95:\n",
    "    print('R2 IS GREATER THAN 0.95 i.e Reliable model')\n",
    "elif R2<0.95 and R2==0.5:\n",
    "    print(\"average model\")\n",
    "else:\n",
    "    print('Incorrect and inconsistent model')"
   ]
  },
  {
   "cell_type": "code",
   "execution_count": 23,
   "id": "5482d915",
   "metadata": {
    "scrolled": true
   },
   "outputs": [
    {
     "name": "stdout",
     "output_type": "stream",
     "text": [
      "HIGHER THE R2 VALUE,BETTER THE MODEL.HENCE,POLYNOMIAL REGRESSION IS MORE ACCURATE,HENCE A BETTER OPTION, THE MODEL IS RELIABLE\n"
     ]
    }
   ],
   "source": [
    "if R2>r2:\n",
    "    print(\"HIGHER THE R2 VALUE,BETTER THE MODEL.HENCE,POLYNOMIAL REGRESSION IS MORE ACCURATE,HENCE A BETTER OPTION, THE MODEL IS RELIABLE\")\n",
    "else:\n",
    "    print(\"Inconsistent models\")"
   ]
  },
  {
   "cell_type": "code",
   "execution_count": 24,
   "id": "46189a37",
   "metadata": {},
   "outputs": [
    {
     "name": "stdout",
     "output_type": "stream",
     "text": [
      "Enter a date in format YYYY-MM-DD2020-12-01\n",
      "737760\n",
      "Predicted Number Of Cases in INDIA USING POLYNOMIAL REGRESSION for next 7 days from 2020-12-01 are:\n",
      "1 : [10732320.51171875]\n",
      "2 : [10792909.03027344]\n",
      "3 : [10853530.140625]\n",
      "4 : [10914183.84667969]\n",
      "5 : [10974870.14550781]\n",
      "6 : [11035589.03808594]\n",
      "7 : [11096340.52441406]\n"
     ]
    }
   ],
   "source": [
    "#PREDICTION OF CONFIRMED CASES USING POLYNOMIAL REGRESSION\n",
    "PredictCases=input(\"Enter a date in format YYYY-MM-DD\")\n",
    "from datetime import datetime\n",
    "Dateordinal = dt.datetime.strptime(PredictCases, '%Y-%m-%d').date()\n",
    "d=Dateordinal.toordinal()\n",
    "print(d)\n",
    "\n",
    "print('Predicted Number Of Cases in INDIA USING POLYNOMIAL REGRESSION for next 7 days from',PredictCases,'are:')\n",
    "for j in range(0,7):\n",
    "    Prediction12=lr.predict(pr.fit_transform(np.array(d+j).reshape(-1,1)))\n",
    "    \n",
    "    if Prediction12<=0:\n",
    "        \n",
    "        print('0')\n",
    "    else:    \n",
    "        print(j+1,':',Prediction12)"
   ]
  },
  {
   "cell_type": "code",
   "execution_count": 25,
   "id": "18fb8819",
   "metadata": {},
   "outputs": [
    {
     "data": {
      "text/html": [
       "<style type=\"text/css\">\n",
       "#T_e5001_row0_col2, #T_e5001_row0_col3, #T_e5001_row0_col4 {\n",
       "  background-color: #67000d;\n",
       "  color: #f1f1f1;\n",
       "}\n",
       "#T_e5001_row1_col2 {\n",
       "  background-color: #9a0c14;\n",
       "  color: #f1f1f1;\n",
       "}\n",
       "#T_e5001_row1_col3 {\n",
       "  background-color: #fcc2aa;\n",
       "  color: #000000;\n",
       "}\n",
       "#T_e5001_row1_col4 {\n",
       "  background-color: #c1161b;\n",
       "  color: #f1f1f1;\n",
       "}\n",
       "#T_e5001_row2_col2 {\n",
       "  background-color: #f24734;\n",
       "  color: #f1f1f1;\n",
       "}\n",
       "#T_e5001_row2_col3, #T_e5001_row5_col2 {\n",
       "  background-color: #fcad90;\n",
       "  color: #000000;\n",
       "}\n",
       "#T_e5001_row2_col4 {\n",
       "  background-color: #f96346;\n",
       "  color: #f1f1f1;\n",
       "}\n",
       "#T_e5001_row3_col2 {\n",
       "  background-color: #fb6c4c;\n",
       "  color: #f1f1f1;\n",
       "}\n",
       "#T_e5001_row3_col3 {\n",
       "  background-color: #fc9b7c;\n",
       "  color: #000000;\n",
       "}\n",
       "#T_e5001_row3_col4 {\n",
       "  background-color: #f44d38;\n",
       "  color: #f1f1f1;\n",
       "}\n",
       "#T_e5001_row4_col2 {\n",
       "  background-color: #fc8b6b;\n",
       "  color: #f1f1f1;\n",
       "}\n",
       "#T_e5001_row4_col3 {\n",
       "  background-color: #fdccb8;\n",
       "  color: #000000;\n",
       "}\n",
       "#T_e5001_row4_col4 {\n",
       "  background-color: #fcb79c;\n",
       "  color: #000000;\n",
       "}\n",
       "#T_e5001_row5_col3, #T_e5001_row17_col2 {\n",
       "  background-color: #ffebe2;\n",
       "  color: #000000;\n",
       "}\n",
       "#T_e5001_row5_col4 {\n",
       "  background-color: #fedecf;\n",
       "  color: #000000;\n",
       "}\n",
       "#T_e5001_row6_col2 {\n",
       "  background-color: #fcb99f;\n",
       "  color: #000000;\n",
       "}\n",
       "#T_e5001_row6_col3 {\n",
       "  background-color: #fdd1be;\n",
       "  color: #000000;\n",
       "}\n",
       "#T_e5001_row6_col4 {\n",
       "  background-color: #fdcdb9;\n",
       "  color: #000000;\n",
       "}\n",
       "#T_e5001_row7_col2 {\n",
       "  background-color: #fdc9b3;\n",
       "  color: #000000;\n",
       "}\n",
       "#T_e5001_row7_col3, #T_e5001_row18_col3, #T_e5001_row20_col4, #T_e5001_row21_col2, #T_e5001_row22_col2, #T_e5001_row22_col3 {\n",
       "  background-color: #fff2ec;\n",
       "  color: #000000;\n",
       "}\n",
       "#T_e5001_row7_col4 {\n",
       "  background-color: #fee1d3;\n",
       "  color: #000000;\n",
       "}\n",
       "#T_e5001_row8_col2 {\n",
       "  background-color: #fdd0bc;\n",
       "  color: #000000;\n",
       "}\n",
       "#T_e5001_row8_col3, #T_e5001_row19_col4 {\n",
       "  background-color: #ffeee7;\n",
       "  color: #000000;\n",
       "}\n",
       "#T_e5001_row8_col4, #T_e5001_row12_col4 {\n",
       "  background-color: #fee1d4;\n",
       "  color: #000000;\n",
       "}\n",
       "#T_e5001_row9_col2 {\n",
       "  background-color: #fedaca;\n",
       "  color: #000000;\n",
       "}\n",
       "#T_e5001_row9_col3, #T_e5001_row19_col3, #T_e5001_row20_col2 {\n",
       "  background-color: #fff0e8;\n",
       "  color: #000000;\n",
       "}\n",
       "#T_e5001_row9_col4 {\n",
       "  background-color: #fee3d7;\n",
       "  color: #000000;\n",
       "}\n",
       "#T_e5001_row10_col2, #T_e5001_row11_col2 {\n",
       "  background-color: #fee3d6;\n",
       "  color: #000000;\n",
       "}\n",
       "#T_e5001_row10_col3 {\n",
       "  background-color: #ffede5;\n",
       "  color: #000000;\n",
       "}\n",
       "#T_e5001_row10_col4, #T_e5001_row13_col2 {\n",
       "  background-color: #fee6da;\n",
       "  color: #000000;\n",
       "}\n",
       "#T_e5001_row11_col3, #T_e5001_row16_col3, #T_e5001_row23_col2, #T_e5001_row23_col4, #T_e5001_row24_col2, #T_e5001_row25_col2, #T_e5001_row26_col2, #T_e5001_row27_col2 {\n",
       "  background-color: #fff4ee;\n",
       "  color: #000000;\n",
       "}\n",
       "#T_e5001_row11_col4, #T_e5001_row15_col2, #T_e5001_row17_col4 {\n",
       "  background-color: #fee9df;\n",
       "  color: #000000;\n",
       "}\n",
       "#T_e5001_row12_col2 {\n",
       "  background-color: #fee5d8;\n",
       "  color: #000000;\n",
       "}\n",
       "#T_e5001_row12_col3 {\n",
       "  background-color: #ffefe8;\n",
       "  color: #000000;\n",
       "}\n",
       "#T_e5001_row13_col3, #T_e5001_row14_col3, #T_e5001_row14_col4 {\n",
       "  background-color: #fee7dc;\n",
       "  color: #000000;\n",
       "}\n",
       "#T_e5001_row13_col4, #T_e5001_row16_col2, #T_e5001_row16_col4 {\n",
       "  background-color: #feeae1;\n",
       "  color: #000000;\n",
       "}\n",
       "#T_e5001_row14_col2 {\n",
       "  background-color: #fee7db;\n",
       "  color: #000000;\n",
       "}\n",
       "#T_e5001_row15_col3 {\n",
       "  background-color: #ffece4;\n",
       "  color: #000000;\n",
       "}\n",
       "#T_e5001_row15_col4 {\n",
       "  background-color: #fee8de;\n",
       "  color: #000000;\n",
       "}\n",
       "#T_e5001_row17_col3 {\n",
       "  background-color: #fff0e9;\n",
       "  color: #000000;\n",
       "}\n",
       "#T_e5001_row18_col2, #T_e5001_row19_col2 {\n",
       "  background-color: #ffeee6;\n",
       "  color: #000000;\n",
       "}\n",
       "#T_e5001_row18_col4 {\n",
       "  background-color: #fff2eb;\n",
       "  color: #000000;\n",
       "}\n",
       "#T_e5001_row20_col3, #T_e5001_row21_col4, #T_e5001_row22_col4, #T_e5001_row28_col4 {\n",
       "  background-color: #fff3ed;\n",
       "  color: #000000;\n",
       "}\n",
       "#T_e5001_row21_col3, #T_e5001_row24_col4, #T_e5001_row25_col4, #T_e5001_row26_col3, #T_e5001_row28_col2, #T_e5001_row29_col2, #T_e5001_row29_col4, #T_e5001_row30_col2, #T_e5001_row33_col4 {\n",
       "  background-color: #fff4ef;\n",
       "  color: #000000;\n",
       "}\n",
       "#T_e5001_row23_col3, #T_e5001_row24_col3, #T_e5001_row25_col3, #T_e5001_row26_col4, #T_e5001_row27_col3, #T_e5001_row27_col4, #T_e5001_row28_col3, #T_e5001_row29_col3, #T_e5001_row30_col3, #T_e5001_row30_col4, #T_e5001_row31_col2, #T_e5001_row31_col3, #T_e5001_row31_col4, #T_e5001_row32_col2, #T_e5001_row32_col3, #T_e5001_row32_col4, #T_e5001_row33_col2, #T_e5001_row33_col3, #T_e5001_row34_col2, #T_e5001_row34_col3, #T_e5001_row34_col4, #T_e5001_row35_col2, #T_e5001_row35_col3, #T_e5001_row35_col4, #T_e5001_row36_col2, #T_e5001_row36_col3, #T_e5001_row36_col4 {\n",
       "  background-color: #fff5f0;\n",
       "  color: #000000;\n",
       "}\n",
       "</style>\n",
       "<table id=\"T_e5001_\">\n",
       "  <thead>\n",
       "    <tr>\n",
       "      <th class=\"blank level0\" >&nbsp;</th>\n",
       "      <th class=\"col_heading level0 col0\" >Date</th>\n",
       "      <th class=\"col_heading level0 col1\" >State_Name</th>\n",
       "      <th class=\"col_heading level0 col2\" >Confirmed</th>\n",
       "      <th class=\"col_heading level0 col3\" >Deceased</th>\n",
       "      <th class=\"col_heading level0 col4\" >Recovered</th>\n",
       "    </tr>\n",
       "  </thead>\n",
       "  <tbody>\n",
       "    <tr>\n",
       "      <th id=\"T_e5001_level0_row0\" class=\"row_heading level0 row0\" >5386</th>\n",
       "      <td id=\"T_e5001_row0_col0\" class=\"data row0 col0\" >2020-08-06 00:00:00</td>\n",
       "      <td id=\"T_e5001_row0_col1\" class=\"data row0 col1\" >Maharashtra</td>\n",
       "      <td id=\"T_e5001_row0_col2\" class=\"data row0 col2\" >11514</td>\n",
       "      <td id=\"T_e5001_row0_col3\" class=\"data row0 col3\" >316</td>\n",
       "      <td id=\"T_e5001_row0_col4\" class=\"data row0 col4\" >10854</td>\n",
       "    </tr>\n",
       "    <tr>\n",
       "      <th id=\"T_e5001_level0_row1\" class=\"row_heading level0 row1\" >5366</th>\n",
       "      <td id=\"T_e5001_row1_col0\" class=\"data row1 col0\" >2020-08-06 00:00:00</td>\n",
       "      <td id=\"T_e5001_row1_col1\" class=\"data row1 col1\" >Andhra Pradesh</td>\n",
       "      <td id=\"T_e5001_row1_col2\" class=\"data row1 col2\" >10328</td>\n",
       "      <td id=\"T_e5001_row1_col3\" class=\"data row1 col3\" >72</td>\n",
       "      <td id=\"T_e5001_row1_col4\" class=\"data row1 col4\" >8516</td>\n",
       "    </tr>\n",
       "    <tr>\n",
       "      <th id=\"T_e5001_level0_row2\" class=\"row_heading level0 row2\" >5381</th>\n",
       "      <td id=\"T_e5001_row2_col0\" class=\"data row2 col0\" >2020-08-06 00:00:00</td>\n",
       "      <td id=\"T_e5001_row2_col1\" class=\"data row2 col1\" >Karnataka</td>\n",
       "      <td id=\"T_e5001_row2_col2\" class=\"data row2 col2\" >6805</td>\n",
       "      <td id=\"T_e5001_row2_col3\" class=\"data row2 col3\" >93</td>\n",
       "      <td id=\"T_e5001_row2_col4\" class=\"data row2 col4\" >5602</td>\n",
       "    </tr>\n",
       "    <tr>\n",
       "      <th id=\"T_e5001_level0_row3\" class=\"row_heading level0 row3\" >5396</th>\n",
       "      <td id=\"T_e5001_row3_col0\" class=\"data row3 col0\" >2020-08-06 00:00:00</td>\n",
       "      <td id=\"T_e5001_row3_col1\" class=\"data row3 col1\" >Tamil Nadu</td>\n",
       "      <td id=\"T_e5001_row3_col2\" class=\"data row3 col2\" >5684</td>\n",
       "      <td id=\"T_e5001_row3_col3\" class=\"data row3 col3\" >110</td>\n",
       "      <td id=\"T_e5001_row3_col4\" class=\"data row3 col4\" >6272</td>\n",
       "    </tr>\n",
       "    <tr>\n",
       "      <th id=\"T_e5001_level0_row4\" class=\"row_heading level0 row4\" >5399</th>\n",
       "      <td id=\"T_e5001_row4_col0\" class=\"data row4 col0\" >2020-08-06 00:00:00</td>\n",
       "      <td id=\"T_e5001_row4_col1\" class=\"data row4 col1\" >Uttar Pradesh</td>\n",
       "      <td id=\"T_e5001_row4_col2\" class=\"data row4 col2\" >4586</td>\n",
       "      <td id=\"T_e5001_row4_col3\" class=\"data row4 col3\" >61</td>\n",
       "      <td id=\"T_e5001_row4_col4\" class=\"data row4 col4\" >2844</td>\n",
       "    </tr>\n",
       "    <tr>\n",
       "      <th id=\"T_e5001_level0_row5\" class=\"row_heading level0 row5\" >5369</th>\n",
       "      <td id=\"T_e5001_row5_col0\" class=\"data row5 col0\" >2020-08-06 00:00:00</td>\n",
       "      <td id=\"T_e5001_row5_col1\" class=\"data row5 col1\" >Bihar</td>\n",
       "      <td id=\"T_e5001_row5_col2\" class=\"data row5 col2\" >3416</td>\n",
       "      <td id=\"T_e5001_row5_col3\" class=\"data row5 col3\" >19</td>\n",
       "      <td id=\"T_e5001_row5_col4\" class=\"data row5 col4\" >1450</td>\n",
       "    </tr>\n",
       "    <tr>\n",
       "      <th id=\"T_e5001_level0_row6\" class=\"row_heading level0 row6\" >5401</th>\n",
       "      <td id=\"T_e5001_row6_col0\" class=\"data row6 col0\" >2020-08-06 00:00:00</td>\n",
       "      <td id=\"T_e5001_row6_col1\" class=\"data row6 col1\" >West Bengal</td>\n",
       "      <td id=\"T_e5001_row6_col2\" class=\"data row6 col2\" >2954</td>\n",
       "      <td id=\"T_e5001_row6_col3\" class=\"data row6 col3\" >56</td>\n",
       "      <td id=\"T_e5001_row6_col4\" class=\"data row6 col4\" >2061</td>\n",
       "    </tr>\n",
       "    <tr>\n",
       "      <th id=\"T_e5001_level0_row7\" class=\"row_heading level0 row7\" >5368</th>\n",
       "      <td id=\"T_e5001_row7_col0\" class=\"data row7 col0\" >2020-08-06 00:00:00</td>\n",
       "      <td id=\"T_e5001_row7_col1\" class=\"data row7 col1\" >Assam</td>\n",
       "      <td id=\"T_e5001_row7_col2\" class=\"data row7 col2\" >2372</td>\n",
       "      <td id=\"T_e5001_row7_col3\" class=\"data row7 col3\" >5</td>\n",
       "      <td id=\"T_e5001_row7_col4\" class=\"data row7 col4\" >1332</td>\n",
       "    </tr>\n",
       "    <tr>\n",
       "      <th id=\"T_e5001_level0_row8\" class=\"row_heading level0 row8\" >5397</th>\n",
       "      <td id=\"T_e5001_row8_col0\" class=\"data row8 col0\" >2020-08-06 00:00:00</td>\n",
       "      <td id=\"T_e5001_row8_col1\" class=\"data row8 col1\" >Telangana</td>\n",
       "      <td id=\"T_e5001_row8_col2\" class=\"data row8 col2\" >2092</td>\n",
       "      <td id=\"T_e5001_row8_col3\" class=\"data row8 col3\" >13</td>\n",
       "      <td id=\"T_e5001_row8_col4\" class=\"data row8 col4\" >1289</td>\n",
       "    </tr>\n",
       "    <tr>\n",
       "      <th id=\"T_e5001_level0_row9\" class=\"row_heading level0 row9\" >5391</th>\n",
       "      <td id=\"T_e5001_row9_col0\" class=\"data row9 col0\" >2020-08-06 00:00:00</td>\n",
       "      <td id=\"T_e5001_row9_col1\" class=\"data row9 col1\" >Odisha</td>\n",
       "      <td id=\"T_e5001_row9_col2\" class=\"data row9 col2\" >1699</td>\n",
       "      <td id=\"T_e5001_row9_col3\" class=\"data row9 col3\" >11</td>\n",
       "      <td id=\"T_e5001_row9_col4\" class=\"data row9 col4\" >1150</td>\n",
       "    </tr>\n",
       "    <tr>\n",
       "      <th id=\"T_e5001_level0_row10\" class=\"row_heading level0 row10\" >5374</th>\n",
       "      <td id=\"T_e5001_row10_col0\" class=\"data row10 col0\" >2020-08-06 00:00:00</td>\n",
       "      <td id=\"T_e5001_row10_col1\" class=\"data row10 col1\" >Delhi</td>\n",
       "      <td id=\"T_e5001_row10_col2\" class=\"data row10 col2\" >1299</td>\n",
       "      <td id=\"T_e5001_row10_col3\" class=\"data row10 col3\" >15</td>\n",
       "      <td id=\"T_e5001_row10_col4\" class=\"data row10 col4\" >1008</td>\n",
       "    </tr>\n",
       "    <tr>\n",
       "      <th id=\"T_e5001_level0_row11\" class=\"row_heading level0 row11\" >5382</th>\n",
       "      <td id=\"T_e5001_row11_col0\" class=\"data row11 col0\" >2020-08-06 00:00:00</td>\n",
       "      <td id=\"T_e5001_row11_col1\" class=\"data row11 col1\" >Kerala</td>\n",
       "      <td id=\"T_e5001_row11_col2\" class=\"data row11 col2\" >1298</td>\n",
       "      <td id=\"T_e5001_row11_col3\" class=\"data row11 col3\" >3</td>\n",
       "      <td id=\"T_e5001_row11_col4\" class=\"data row11 col4\" >800</td>\n",
       "    </tr>\n",
       "    <tr>\n",
       "      <th id=\"T_e5001_level0_row12\" class=\"row_heading level0 row12\" >5394</th>\n",
       "      <td id=\"T_e5001_row12_col0\" class=\"data row12 col0\" >2020-08-06 00:00:00</td>\n",
       "      <td id=\"T_e5001_row12_col1\" class=\"data row12 col1\" >Rajasthan</td>\n",
       "      <td id=\"T_e5001_row12_col2\" class=\"data row12 col2\" >1151</td>\n",
       "      <td id=\"T_e5001_row12_col3\" class=\"data row12 col3\" >12</td>\n",
       "      <td id=\"T_e5001_row12_col4\" class=\"data row12 col4\" >1282</td>\n",
       "    </tr>\n",
       "    <tr>\n",
       "      <th id=\"T_e5001_level0_row13\" class=\"row_heading level0 row13\" >5393</th>\n",
       "      <td id=\"T_e5001_row13_col0\" class=\"data row13 col0\" >2020-08-06 00:00:00</td>\n",
       "      <td id=\"T_e5001_row13_col1\" class=\"data row13 col1\" >Punjab</td>\n",
       "      <td id=\"T_e5001_row13_col2\" class=\"data row13 col2\" >1035</td>\n",
       "      <td id=\"T_e5001_row13_col3\" class=\"data row13 col3\" >26</td>\n",
       "      <td id=\"T_e5001_row13_col4\" class=\"data row13 col4\" >716</td>\n",
       "    </tr>\n",
       "    <tr>\n",
       "      <th id=\"T_e5001_level0_row14\" class=\"row_heading level0 row14\" >5376</th>\n",
       "      <td id=\"T_e5001_row14_col0\" class=\"data row14 col0\" >2020-08-06 00:00:00</td>\n",
       "      <td id=\"T_e5001_row14_col1\" class=\"data row14 col1\" >Gujarat</td>\n",
       "      <td id=\"T_e5001_row14_col2\" class=\"data row14 col2\" >1034</td>\n",
       "      <td id=\"T_e5001_row14_col3\" class=\"data row14 col3\" >27</td>\n",
       "      <td id=\"T_e5001_row14_col4\" class=\"data row14 col4\" >917</td>\n",
       "    </tr>\n",
       "    <tr>\n",
       "      <th id=\"T_e5001_level0_row15\" class=\"row_heading level0 row15\" >5385</th>\n",
       "      <td id=\"T_e5001_row15_col0\" class=\"data row15 col0\" >2020-08-06 00:00:00</td>\n",
       "      <td id=\"T_e5001_row15_col1\" class=\"data row15 col1\" >Madhya Pradesh</td>\n",
       "      <td id=\"T_e5001_row15_col2\" class=\"data row15 col2\" >830</td>\n",
       "      <td id=\"T_e5001_row15_col3\" class=\"data row15 col3\" >17</td>\n",
       "      <td id=\"T_e5001_row15_col4\" class=\"data row15 col4\" >838</td>\n",
       "    </tr>\n",
       "    <tr>\n",
       "      <th id=\"T_e5001_level0_row16\" class=\"row_heading level0 row16\" >5377</th>\n",
       "      <td id=\"T_e5001_row16_col0\" class=\"data row16 col0\" >2020-08-06 00:00:00</td>\n",
       "      <td id=\"T_e5001_row16_col1\" class=\"data row16 col1\" >Haryana</td>\n",
       "      <td id=\"T_e5001_row16_col2\" class=\"data row16 col2\" >755</td>\n",
       "      <td id=\"T_e5001_row16_col3\" class=\"data row16 col3\" >3</td>\n",
       "      <td id=\"T_e5001_row16_col4\" class=\"data row16 col4\" >680</td>\n",
       "    </tr>\n",
       "    <tr>\n",
       "      <th id=\"T_e5001_level0_row17\" class=\"row_heading level0 row17\" >5380</th>\n",
       "      <td id=\"T_e5001_row17_col0\" class=\"data row17 col0\" >2020-08-06 00:00:00</td>\n",
       "      <td id=\"T_e5001_row17_col1\" class=\"data row17 col1\" >Jharkhand</td>\n",
       "      <td id=\"T_e5001_row17_col2\" class=\"data row17 col2\" >708</td>\n",
       "      <td id=\"T_e5001_row17_col3\" class=\"data row17 col3\" >9</td>\n",
       "      <td id=\"T_e5001_row17_col4\" class=\"data row17 col4\" >768</td>\n",
       "    </tr>\n",
       "    <tr>\n",
       "      <th id=\"T_e5001_level0_row18\" class=\"row_heading level0 row18\" >5371</th>\n",
       "      <td id=\"T_e5001_row18_col0\" class=\"data row18 col0\" >2020-08-06 00:00:00</td>\n",
       "      <td id=\"T_e5001_row18_col1\" class=\"data row18 col1\" >Chhattisgarh</td>\n",
       "      <td id=\"T_e5001_row18_col2\" class=\"data row18 col2\" >523</td>\n",
       "      <td id=\"T_e5001_row18_col3\" class=\"data row18 col3\" >6</td>\n",
       "      <td id=\"T_e5001_row18_col4\" class=\"data row18 col4\" >217</td>\n",
       "    </tr>\n",
       "    <tr>\n",
       "      <th id=\"T_e5001_level0_row19\" class=\"row_heading level0 row19\" >5379</th>\n",
       "      <td id=\"T_e5001_row19_col0\" class=\"data row19 col0\" >2020-08-06 00:00:00</td>\n",
       "      <td id=\"T_e5001_row19_col1\" class=\"data row19 col1\" >Jammu and Kashmir</td>\n",
       "      <td id=\"T_e5001_row19_col2\" class=\"data row19 col2\" >499</td>\n",
       "      <td id=\"T_e5001_row19_col3\" class=\"data row19 col3\" >10</td>\n",
       "      <td id=\"T_e5001_row19_col4\" class=\"data row19 col4\" >464</td>\n",
       "    </tr>\n",
       "    <tr>\n",
       "      <th id=\"T_e5001_level0_row20\" class=\"row_heading level0 row20\" >5400</th>\n",
       "      <td id=\"T_e5001_row20_col0\" class=\"data row20 col0\" >2020-08-06 00:00:00</td>\n",
       "      <td id=\"T_e5001_row20_col1\" class=\"data row20 col1\" >Uttarakhand</td>\n",
       "      <td id=\"T_e5001_row20_col2\" class=\"data row20 col2\" >369</td>\n",
       "      <td id=\"T_e5001_row20_col3\" class=\"data row20 col3\" >4</td>\n",
       "      <td id=\"T_e5001_row20_col4\" class=\"data row20 col4\" >194</td>\n",
       "    </tr>\n",
       "    <tr>\n",
       "      <th id=\"T_e5001_level0_row21\" class=\"row_heading level0 row21\" >5375</th>\n",
       "      <td id=\"T_e5001_row21_col0\" class=\"data row21 col0\" >2020-08-06 00:00:00</td>\n",
       "      <td id=\"T_e5001_row21_col1\" class=\"data row21 col1\" >Goa</td>\n",
       "      <td id=\"T_e5001_row21_col2\" class=\"data row21 col2\" >191</td>\n",
       "      <td id=\"T_e5001_row21_col3\" class=\"data row21 col3\" >2</td>\n",
       "      <td id=\"T_e5001_row21_col4\" class=\"data row21 col4\" >166</td>\n",
       "    </tr>\n",
       "    <tr>\n",
       "      <th id=\"T_e5001_level0_row22\" class=\"row_heading level0 row22\" >5392</th>\n",
       "      <td id=\"T_e5001_row22_col0\" class=\"data row22 col0\" >2020-08-06 00:00:00</td>\n",
       "      <td id=\"T_e5001_row22_col1\" class=\"data row22 col1\" >Puducherry</td>\n",
       "      <td id=\"T_e5001_row22_col2\" class=\"data row22 col2\" >188</td>\n",
       "      <td id=\"T_e5001_row22_col3\" class=\"data row22 col3\" >5</td>\n",
       "      <td id=\"T_e5001_row22_col4\" class=\"data row22 col4\" >140</td>\n",
       "    </tr>\n",
       "    <tr>\n",
       "      <th id=\"T_e5001_level0_row23\" class=\"row_heading level0 row23\" >5378</th>\n",
       "      <td id=\"T_e5001_row23_col0\" class=\"data row23 col0\" >2020-08-06 00:00:00</td>\n",
       "      <td id=\"T_e5001_row23_col1\" class=\"data row23 col1\" >Himachal Pradesh</td>\n",
       "      <td id=\"T_e5001_row23_col2\" class=\"data row23 col2\" >131</td>\n",
       "      <td id=\"T_e5001_row23_col3\" class=\"data row23 col3\" >0</td>\n",
       "      <td id=\"T_e5001_row23_col4\" class=\"data row23 col4\" >103</td>\n",
       "    </tr>\n",
       "    <tr>\n",
       "      <th id=\"T_e5001_level0_row24\" class=\"row_heading level0 row24\" >5387</th>\n",
       "      <td id=\"T_e5001_row24_col0\" class=\"data row24 col0\" >2020-08-06 00:00:00</td>\n",
       "      <td id=\"T_e5001_row24_col1\" class=\"data row24 col1\" >Manipur</td>\n",
       "      <td id=\"T_e5001_row24_col2\" class=\"data row24 col2\" >124</td>\n",
       "      <td id=\"T_e5001_row24_col3\" class=\"data row24 col3\" >1</td>\n",
       "      <td id=\"T_e5001_row24_col4\" class=\"data row24 col4\" >43</td>\n",
       "    </tr>\n",
       "    <tr>\n",
       "      <th id=\"T_e5001_level0_row25\" class=\"row_heading level0 row25\" >5398</th>\n",
       "      <td id=\"T_e5001_row25_col0\" class=\"data row25 col0\" >2020-08-06 00:00:00</td>\n",
       "      <td id=\"T_e5001_row25_col1\" class=\"data row25 col1\" >Tripura</td>\n",
       "      <td id=\"T_e5001_row25_col2\" class=\"data row25 col2\" >98</td>\n",
       "      <td id=\"T_e5001_row25_col3\" class=\"data row25 col3\" >1</td>\n",
       "      <td id=\"T_e5001_row25_col4\" class=\"data row25 col4\" >68</td>\n",
       "    </tr>\n",
       "    <tr>\n",
       "      <th id=\"T_e5001_level0_row26\" class=\"row_heading level0 row26\" >5365</th>\n",
       "      <td id=\"T_e5001_row26_col0\" class=\"data row26 col0\" >2020-08-06 00:00:00</td>\n",
       "      <td id=\"T_e5001_row26_col1\" class=\"data row26 col1\" >Andaman and Nicobar Islands</td>\n",
       "      <td id=\"T_e5001_row26_col2\" class=\"data row26 col2\" >96</td>\n",
       "      <td id=\"T_e5001_row26_col3\" class=\"data row26 col3\" >2</td>\n",
       "      <td id=\"T_e5001_row26_col4\" class=\"data row26 col4\" >29</td>\n",
       "    </tr>\n",
       "    <tr>\n",
       "      <th id=\"T_e5001_level0_row27\" class=\"row_heading level0 row27\" >5367</th>\n",
       "      <td id=\"T_e5001_row27_col0\" class=\"data row27 col0\" >2020-08-06 00:00:00</td>\n",
       "      <td id=\"T_e5001_row27_col1\" class=\"data row27 col1\" >Arunachal Pradesh</td>\n",
       "      <td id=\"T_e5001_row27_col2\" class=\"data row27 col2\" >93</td>\n",
       "      <td id=\"T_e5001_row27_col3\" class=\"data row27 col3\" >0</td>\n",
       "      <td id=\"T_e5001_row27_col4\" class=\"data row27 col4\" >35</td>\n",
       "    </tr>\n",
       "    <tr>\n",
       "      <th id=\"T_e5001_level0_row28\" class=\"row_heading level0 row28\" >5390</th>\n",
       "      <td id=\"T_e5001_row28_col0\" class=\"data row28 col0\" >2020-08-06 00:00:00</td>\n",
       "      <td id=\"T_e5001_row28_col1\" class=\"data row28 col1\" >Nagaland</td>\n",
       "      <td id=\"T_e5001_row28_col2\" class=\"data row28 col2\" >82</td>\n",
       "      <td id=\"T_e5001_row28_col3\" class=\"data row28 col3\" >0</td>\n",
       "      <td id=\"T_e5001_row28_col4\" class=\"data row28 col4\" >134</td>\n",
       "    </tr>\n",
       "    <tr>\n",
       "      <th id=\"T_e5001_level0_row29\" class=\"row_heading level0 row29\" >5370</th>\n",
       "      <td id=\"T_e5001_row29_col0\" class=\"data row29 col0\" >2020-08-06 00:00:00</td>\n",
       "      <td id=\"T_e5001_row29_col1\" class=\"data row29 col1\" >Chandigarh</td>\n",
       "      <td id=\"T_e5001_row29_col2\" class=\"data row29 col2\" >57</td>\n",
       "      <td id=\"T_e5001_row29_col3\" class=\"data row29 col3\" >0</td>\n",
       "      <td id=\"T_e5001_row29_col4\" class=\"data row29 col4\" >62</td>\n",
       "    </tr>\n",
       "    <tr>\n",
       "      <th id=\"T_e5001_level0_row30\" class=\"row_heading level0 row30\" >5388</th>\n",
       "      <td id=\"T_e5001_row30_col0\" class=\"data row30 col0\" >2020-08-06 00:00:00</td>\n",
       "      <td id=\"T_e5001_row30_col1\" class=\"data row30 col1\" >Meghalaya</td>\n",
       "      <td id=\"T_e5001_row30_col2\" class=\"data row30 col2\" >51</td>\n",
       "      <td id=\"T_e5001_row30_col3\" class=\"data row30 col3\" >0</td>\n",
       "      <td id=\"T_e5001_row30_col4\" class=\"data row30 col4\" >6</td>\n",
       "    </tr>\n",
       "    <tr>\n",
       "      <th id=\"T_e5001_level0_row31\" class=\"row_heading level0 row31\" >5372</th>\n",
       "      <td id=\"T_e5001_row31_col0\" class=\"data row31 col0\" >2020-08-06 00:00:00</td>\n",
       "      <td id=\"T_e5001_row31_col1\" class=\"data row31 col1\" >Dadra and Nagar Haveli and Daman and Diu</td>\n",
       "      <td id=\"T_e5001_row31_col2\" class=\"data row31 col2\" >43</td>\n",
       "      <td id=\"T_e5001_row31_col3\" class=\"data row31 col3\" >0</td>\n",
       "      <td id=\"T_e5001_row31_col4\" class=\"data row31 col4\" >36</td>\n",
       "    </tr>\n",
       "    <tr>\n",
       "      <th id=\"T_e5001_level0_row32\" class=\"row_heading level0 row32\" >5389</th>\n",
       "      <td id=\"T_e5001_row32_col0\" class=\"data row32 col0\" >2020-08-06 00:00:00</td>\n",
       "      <td id=\"T_e5001_row32_col1\" class=\"data row32 col1\" >Mizoram</td>\n",
       "      <td id=\"T_e5001_row32_col2\" class=\"data row32 col2\" >33</td>\n",
       "      <td id=\"T_e5001_row32_col3\" class=\"data row32 col3\" >0</td>\n",
       "      <td id=\"T_e5001_row32_col4\" class=\"data row32 col4\" >2</td>\n",
       "    </tr>\n",
       "    <tr>\n",
       "      <th id=\"T_e5001_level0_row33\" class=\"row_heading level0 row33\" >5395</th>\n",
       "      <td id=\"T_e5001_row33_col0\" class=\"data row33 col0\" >2020-08-06 00:00:00</td>\n",
       "      <td id=\"T_e5001_row33_col1\" class=\"data row33 col1\" >Sikkim</td>\n",
       "      <td id=\"T_e5001_row33_col2\" class=\"data row33 col2\" >29</td>\n",
       "      <td id=\"T_e5001_row33_col3\" class=\"data row33 col3\" >0</td>\n",
       "      <td id=\"T_e5001_row33_col4\" class=\"data row33 col4\" >50</td>\n",
       "    </tr>\n",
       "    <tr>\n",
       "      <th id=\"T_e5001_level0_row34\" class=\"row_heading level0 row34\" >5383</th>\n",
       "      <td id=\"T_e5001_row34_col0\" class=\"data row34 col0\" >2020-08-06 00:00:00</td>\n",
       "      <td id=\"T_e5001_row34_col1\" class=\"data row34 col1\" >Ladakh</td>\n",
       "      <td id=\"T_e5001_row34_col2\" class=\"data row34 col2\" >3</td>\n",
       "      <td id=\"T_e5001_row34_col3\" class=\"data row34 col3\" >0</td>\n",
       "      <td id=\"T_e5001_row34_col4\" class=\"data row34 col4\" >13</td>\n",
       "    </tr>\n",
       "    <tr>\n",
       "      <th id=\"T_e5001_level0_row35\" class=\"row_heading level0 row35\" >5384</th>\n",
       "      <td id=\"T_e5001_row35_col0\" class=\"data row35 col0\" >2020-08-06 00:00:00</td>\n",
       "      <td id=\"T_e5001_row35_col1\" class=\"data row35 col1\" >Lakshadweep</td>\n",
       "      <td id=\"T_e5001_row35_col2\" class=\"data row35 col2\" >0</td>\n",
       "      <td id=\"T_e5001_row35_col3\" class=\"data row35 col3\" >0</td>\n",
       "      <td id=\"T_e5001_row35_col4\" class=\"data row35 col4\" >0</td>\n",
       "    </tr>\n",
       "    <tr>\n",
       "      <th id=\"T_e5001_level0_row36\" class=\"row_heading level0 row36\" >5373</th>\n",
       "      <td id=\"T_e5001_row36_col0\" class=\"data row36 col0\" >2020-08-06 00:00:00</td>\n",
       "      <td id=\"T_e5001_row36_col1\" class=\"data row36 col1\" >Daman and Diu</td>\n",
       "      <td id=\"T_e5001_row36_col2\" class=\"data row36 col2\" >0</td>\n",
       "      <td id=\"T_e5001_row36_col3\" class=\"data row36 col3\" >0</td>\n",
       "      <td id=\"T_e5001_row36_col4\" class=\"data row36 col4\" >0</td>\n",
       "    </tr>\n",
       "  </tbody>\n",
       "</table>\n"
      ],
      "text/plain": [
       "<pandas.io.formats.style.Styler at 0x23fa46b27c0>"
      ]
     },
     "execution_count": 25,
     "metadata": {},
     "output_type": "execute_result"
    }
   ],
   "source": [
    "f.tail(1)\n",
    "today=f[f.Date==\"2020-08-06\t\"]\n",
    "maxcases=today.sort_values(by='Confirmed',ascending=False)\n",
    "maxcases.style.background_gradient(cmap='Reds')\n"
   ]
  },
  {
   "cell_type": "code",
   "execution_count": 26,
   "id": "3382fa7e",
   "metadata": {},
   "outputs": [
    {
     "data": {
      "text/html": [
       "<style type=\"text/css\">\n",
       "#T_d674b_row0_col2, #T_d674b_row0_col3, #T_d674b_row0_col4 {\n",
       "  background-color: #08306b;\n",
       "  color: #f1f1f1;\n",
       "}\n",
       "#T_d674b_row1_col2 {\n",
       "  background-color: #115ca5;\n",
       "  color: #f1f1f1;\n",
       "}\n",
       "#T_d674b_row1_col3 {\n",
       "  background-color: #eef5fc;\n",
       "  color: #000000;\n",
       "}\n",
       "#T_d674b_row1_col4 {\n",
       "  background-color: #2c7cba;\n",
       "  color: #f1f1f1;\n",
       "}\n",
       "#T_d674b_row2_col2 {\n",
       "  background-color: #b0d2e7;\n",
       "  color: #000000;\n",
       "}\n",
       "#T_d674b_row2_col3 {\n",
       "  background-color: #deebf7;\n",
       "  color: #000000;\n",
       "}\n",
       "#T_d674b_row2_col4 {\n",
       "  background-color: #a8cee4;\n",
       "  color: #000000;\n",
       "}\n",
       "#T_d674b_row3_col2 {\n",
       "  background-color: #d8e7f5;\n",
       "  color: #000000;\n",
       "}\n",
       "#T_d674b_row3_col3 {\n",
       "  background-color: #d1e2f3;\n",
       "  color: #000000;\n",
       "}\n",
       "#T_d674b_row3_col4 {\n",
       "  background-color: #89bedc;\n",
       "  color: #000000;\n",
       "}\n",
       "#T_d674b_row4_col2, #T_d674b_row4_col3, #T_d674b_row4_col4 {\n",
       "  background-color: #f7fbff;\n",
       "  color: #000000;\n",
       "}\n",
       "</style>\n",
       "<table id=\"T_d674b_\">\n",
       "  <thead>\n",
       "    <tr>\n",
       "      <th class=\"blank level0\" >&nbsp;</th>\n",
       "      <th class=\"col_heading level0 col0\" >Date</th>\n",
       "      <th class=\"col_heading level0 col1\" >State_Name</th>\n",
       "      <th class=\"col_heading level0 col2\" >Confirmed</th>\n",
       "      <th class=\"col_heading level0 col3\" >Deceased</th>\n",
       "      <th class=\"col_heading level0 col4\" >Recovered</th>\n",
       "    </tr>\n",
       "  </thead>\n",
       "  <tbody>\n",
       "    <tr>\n",
       "      <th id=\"T_d674b_level0_row0\" class=\"row_heading level0 row0\" >5386</th>\n",
       "      <td id=\"T_d674b_row0_col0\" class=\"data row0 col0\" >2020-08-06 00:00:00</td>\n",
       "      <td id=\"T_d674b_row0_col1\" class=\"data row0 col1\" >Maharashtra</td>\n",
       "      <td id=\"T_d674b_row0_col2\" class=\"data row0 col2\" >11514</td>\n",
       "      <td id=\"T_d674b_row0_col3\" class=\"data row0 col3\" >316</td>\n",
       "      <td id=\"T_d674b_row0_col4\" class=\"data row0 col4\" >10854</td>\n",
       "    </tr>\n",
       "    <tr>\n",
       "      <th id=\"T_d674b_level0_row1\" class=\"row_heading level0 row1\" >5366</th>\n",
       "      <td id=\"T_d674b_row1_col0\" class=\"data row1 col0\" >2020-08-06 00:00:00</td>\n",
       "      <td id=\"T_d674b_row1_col1\" class=\"data row1 col1\" >Andhra Pradesh</td>\n",
       "      <td id=\"T_d674b_row1_col2\" class=\"data row1 col2\" >10328</td>\n",
       "      <td id=\"T_d674b_row1_col3\" class=\"data row1 col3\" >72</td>\n",
       "      <td id=\"T_d674b_row1_col4\" class=\"data row1 col4\" >8516</td>\n",
       "    </tr>\n",
       "    <tr>\n",
       "      <th id=\"T_d674b_level0_row2\" class=\"row_heading level0 row2\" >5381</th>\n",
       "      <td id=\"T_d674b_row2_col0\" class=\"data row2 col0\" >2020-08-06 00:00:00</td>\n",
       "      <td id=\"T_d674b_row2_col1\" class=\"data row2 col1\" >Karnataka</td>\n",
       "      <td id=\"T_d674b_row2_col2\" class=\"data row2 col2\" >6805</td>\n",
       "      <td id=\"T_d674b_row2_col3\" class=\"data row2 col3\" >93</td>\n",
       "      <td id=\"T_d674b_row2_col4\" class=\"data row2 col4\" >5602</td>\n",
       "    </tr>\n",
       "    <tr>\n",
       "      <th id=\"T_d674b_level0_row3\" class=\"row_heading level0 row3\" >5396</th>\n",
       "      <td id=\"T_d674b_row3_col0\" class=\"data row3 col0\" >2020-08-06 00:00:00</td>\n",
       "      <td id=\"T_d674b_row3_col1\" class=\"data row3 col1\" >Tamil Nadu</td>\n",
       "      <td id=\"T_d674b_row3_col2\" class=\"data row3 col2\" >5684</td>\n",
       "      <td id=\"T_d674b_row3_col3\" class=\"data row3 col3\" >110</td>\n",
       "      <td id=\"T_d674b_row3_col4\" class=\"data row3 col4\" >6272</td>\n",
       "    </tr>\n",
       "    <tr>\n",
       "      <th id=\"T_d674b_level0_row4\" class=\"row_heading level0 row4\" >5399</th>\n",
       "      <td id=\"T_d674b_row4_col0\" class=\"data row4 col0\" >2020-08-06 00:00:00</td>\n",
       "      <td id=\"T_d674b_row4_col1\" class=\"data row4 col1\" >Uttar Pradesh</td>\n",
       "      <td id=\"T_d674b_row4_col2\" class=\"data row4 col2\" >4586</td>\n",
       "      <td id=\"T_d674b_row4_col3\" class=\"data row4 col3\" >61</td>\n",
       "      <td id=\"T_d674b_row4_col4\" class=\"data row4 col4\" >2844</td>\n",
       "    </tr>\n",
       "  </tbody>\n",
       "</table>\n"
      ],
      "text/plain": [
       "<pandas.io.formats.style.Styler at 0x23fa4713af0>"
      ]
     },
     "execution_count": 26,
     "metadata": {},
     "output_type": "execute_result"
    }
   ],
   "source": [
    "topstates=maxcases[0:5]\n",
    "topstates.style.background_gradient(cmap='Blues')"
   ]
  },
  {
   "cell_type": "code",
   "execution_count": 27,
   "id": "d0920ded",
   "metadata": {
    "scrolled": true
   },
   "outputs": [
    {
     "data": {
      "image/png": "[encoded data removed]",
      "text/plain": [
       "<Figure size 432x288 with 1 Axes>"
      ]
     },
     "metadata": {
      "needs_background": "light"
     },
     "output_type": "display_data"
    }
   ],
   "source": [
    "sns.barplot(x='State_Name',y='Confirmed', data=topstates, hue='State_Name')\n",
    "plt.show()"
   ]
  },
  {
   "cell_type": "code",
   "execution_count": 28,
   "id": "2c002d42",
   "metadata": {},
   "outputs": [
    {
     "name": "stdout",
     "output_type": "stream",
     "text": [
      "           Date      State_Name  Confirmed  Deceased  Recovered\n",
      "5386 2020-08-06     Maharashtra      11514       316      10854\n",
      "5366 2020-08-06  Andhra Pradesh      10328        72       8516\n",
      "5381 2020-08-06       Karnataka       6805        93       5602\n",
      "5396 2020-08-06      Tamil Nadu       5684       110       6272\n",
      "5399 2020-08-06   Uttar Pradesh       4586        61       2844\n"
     ]
    }
   ],
   "source": [
    "print(topstates)"
   ]
  },
  {
   "cell_type": "code",
   "execution_count": 29,
   "id": "cad61b22",
   "metadata": {},
   "outputs": [
    {
     "data": {
      "text/plain": [
       "5386       Maharashtra\n",
       "5366    Andhra Pradesh\n",
       "5381         Karnataka\n",
       "5396        Tamil Nadu\n",
       "5399     Uttar Pradesh\n",
       "Name: State_Name, dtype: object"
      ]
     },
     "execution_count": 29,
     "metadata": {},
     "output_type": "execute_result"
    }
   ],
   "source": [
    "topstates.State_Name"
   ]
  },
  {
   "cell_type": "code",
   "execution_count": 30,
   "id": "f25a79b3",
   "metadata": {},
   "outputs": [
    {
     "name": "stdout",
     "output_type": "stream",
     "text": [
      "['Maharashtra', 'Andhra Pradesh', 'Karnataka', 'Tamil Nadu', 'Uttar Pradesh']\n"
     ]
    }
   ],
   "source": [
    "States= topstates['State_Name'].tolist()\n",
    "print(States)"
   ]
  },
  {
   "cell_type": "code",
   "execution_count": 31,
   "id": "737a1626",
   "metadata": {
    "scrolled": true
   },
   "outputs": [
    {
     "data": {
      "image/png": "[encoded data removed]",
      "text/plain": [
       "<Figure size 360x360 with 1 Axes>"
      ]
     },
     "metadata": {
      "needs_background": "light"
     },
     "output_type": "display_data"
    },
    {
     "data": {
      "image/png": "[encoded data removed]",
      "text/plain": [
       "<Figure size 360x360 with 1 Axes>"
      ]
     },
     "metadata": {
      "needs_background": "light"
     },
     "output_type": "display_data"
    },
    {
     "data": {
      "image/png": "[encoded data removed]",
      "text/plain": [
       "<Figure size 360x360 with 1 Axes>"
      ]
     },
     "metadata": {
      "needs_background": "light"
     },
     "output_type": "display_data"
    },
    {
     "data": {
      "image/png": "[encoded data removed]",
      "text/plain": [
       "<Figure size 360x360 with 1 Axes>"
      ]
     },
     "metadata": {
      "needs_background": "light"
     },
     "output_type": "display_data"
    },
    {
     "data": {
      "image/png": "[encoded data removed]",
      "text/plain": [
       "<Figure size 360x360 with 1 Axes>"
      ]
     },
     "metadata": {
      "needs_background": "light"
     },
     "output_type": "display_data"
    }
   ],
   "source": [
    "#PLOTS FOR NUMBER OF CONFIRMED CASES FOR TOP 5 STATES WITH MAXIMUM NUMBER OF CASES\n",
    "for i in States:\n",
    "    st=f[f.State_Name ==i]\n",
    "    sns.relplot(x='Date',y='Confirmed',data=st, kind=\"line\", col=\"State_Name\")"
   ]
  },
  {
   "cell_type": "code",
   "execution_count": 36,
   "id": "e6d0c3f6",
   "metadata": {},
   "outputs": [
    {
     "name": "stdout",
     "output_type": "stream",
     "text": [
      "linear regression models for top 5 states\n",
      "Maharashtra [[7941.48634701]]\n"
     ]
    },
    {
     "name": "stderr",
     "output_type": "stream",
     "text": [
      "C:\\Users\\Lakshay\\AppData\\Local\\Temp/ipykernel_4376/669703659.py:6: SettingWithCopyWarning: \n",
      "A value is trying to be set on a copy of a slice from a DataFrame.\n",
      "Try using .loc[row_indexer,col_indexer] = value instead\n",
      "\n",
      "See the caveats in the documentation: https://pandas.pydata.org/pandas-docs/stable/user_guide/indexing.html#returning-a-view-versus-a-copy\n",
      "  st['Date']=st['Date'].map(dt.datetime.toordinal)\n",
      "C:\\Users\\Lakshay\\AppData\\Local\\Temp/ipykernel_4376/669703659.py:6: SettingWithCopyWarning: \n",
      "A value is trying to be set on a copy of a slice from a DataFrame.\n",
      "Try using .loc[row_indexer,col_indexer] = value instead\n",
      "\n",
      "See the caveats in the documentation: https://pandas.pydata.org/pandas-docs/stable/user_guide/indexing.html#returning-a-view-versus-a-copy\n",
      "  st['Date']=st['Date'].map(dt.datetime.toordinal)\n"
     ]
    },
    {
     "name": "stdout",
     "output_type": "stream",
     "text": [
      "Andhra Pradesh [[4492.82591639]]\n",
      "Karnataka [[3485.25102961]]\n"
     ]
    },
    {
     "name": "stderr",
     "output_type": "stream",
     "text": [
      "C:\\Users\\Lakshay\\AppData\\Local\\Temp/ipykernel_4376/669703659.py:6: SettingWithCopyWarning: \n",
      "A value is trying to be set on a copy of a slice from a DataFrame.\n",
      "Try using .loc[row_indexer,col_indexer] = value instead\n",
      "\n",
      "See the caveats in the documentation: https://pandas.pydata.org/pandas-docs/stable/user_guide/indexing.html#returning-a-view-versus-a-copy\n",
      "  st['Date']=st['Date'].map(dt.datetime.toordinal)\n",
      "C:\\Users\\Lakshay\\AppData\\Local\\Temp/ipykernel_4376/669703659.py:6: SettingWithCopyWarning: \n",
      "A value is trying to be set on a copy of a slice from a DataFrame.\n",
      "Try using .loc[row_indexer,col_indexer] = value instead\n",
      "\n",
      "See the caveats in the documentation: https://pandas.pydata.org/pandas-docs/stable/user_guide/indexing.html#returning-a-view-versus-a-copy\n",
      "  st['Date']=st['Date'].map(dt.datetime.toordinal)\n"
     ]
    },
    {
     "name": "stdout",
     "output_type": "stream",
     "text": [
      "Tamil Nadu [[5058.74783415]]\n",
      "Uttar Pradesh [[2184.57387087]]\n"
     ]
    },
    {
     "name": "stderr",
     "output_type": "stream",
     "text": [
      "C:\\Users\\Lakshay\\AppData\\Local\\Temp/ipykernel_4376/669703659.py:6: SettingWithCopyWarning: \n",
      "A value is trying to be set on a copy of a slice from a DataFrame.\n",
      "Try using .loc[row_indexer,col_indexer] = value instead\n",
      "\n",
      "See the caveats in the documentation: https://pandas.pydata.org/pandas-docs/stable/user_guide/indexing.html#returning-a-view-versus-a-copy\n",
      "  st['Date']=st['Date'].map(dt.datetime.toordinal)\n"
     ]
    },
    {
     "data": {
      "image/png": "[encoded data removed]",
      "text/plain": [
       "<Figure size 360x360 with 1 Axes>"
      ]
     },
     "metadata": {
      "needs_background": "light"
     },
     "output_type": "display_data"
    },
    {
     "data": {
      "image/png": "[encoded data removed]",
      "text/plain": [
       "<Figure size 360x360 with 1 Axes>"
      ]
     },
     "metadata": {
      "needs_background": "light"
     },
     "output_type": "display_data"
    },
    {
     "data": {
      "image/png": "[encoded data removed]",
      "text/plain": [
       "<Figure size 360x360 with 1 Axes>"
      ]
     },
     "metadata": {
      "needs_background": "light"
     },
     "output_type": "display_data"
    },
    {
     "data": {
      "image/png": "[encoded data removed]",
      "text/plain": [
       "<Figure size 360x360 with 1 Axes>"
      ]
     },
     "metadata": {
      "needs_background": "light"
     },
     "output_type": "display_data"
    },
    {
     "data": {
      "image/png": "[encoded data removed]",
      "text/plain": [
       "<Figure size 360x360 with 1 Axes>"
      ]
     },
     "metadata": {
      "needs_background": "light"
     },
     "output_type": "display_data"
    }
   ],
   "source": [
    "print(\"linear regression models for top 5 states\")\n",
    "for i in States:\n",
    "    \n",
    "    st=f[f.State_Name ==i]\n",
    "    import datetime as dt\n",
    "    st['Date']=st['Date'].map(dt.datetime.toordinal)\n",
    "    from sklearn.model_selection import train_test_split\n",
    "    x=st['Date']\n",
    "    y=st['Confirmed']\n",
    "    X_train,X_test,y_train,y_test=train_test_split(x,y,test_size=0.2)\n",
    "    from sklearn.linear_model import LinearRegression\n",
    "    regressor=LinearRegression(fit_intercept=True)\n",
    "    regressor.fit(np.array(X_train).reshape(-1,1),np.array(y_train).reshape(-1,1))\n",
    "    sns.relplot(x='Date',y='Confirmed',data=st, kind=\"line\", col=\"State_Name\")\n",
    "    Z=plt.plot(X_train,regressor.predict(np.array(X_train).reshape(-1,1)), color='blue')\n",
    "    ABC=regressor.predict(np.array([[737639]]))\n",
    "    print(i,ABC)\n",
    "    \n",
    "\n",
    "    "
   ]
  },
  {
   "cell_type": "code",
   "execution_count": 32,
   "id": "f28bce67",
   "metadata": {},
   "outputs": [
    {
     "name": "stderr",
     "output_type": "stream",
     "text": [
      "C:\\Users\\Lakshay\\AppData\\Local\\Temp/ipykernel_5252/3223460784.py:5: SettingWithCopyWarning: \n",
      "A value is trying to be set on a copy of a slice from a DataFrame.\n",
      "Try using .loc[row_indexer,col_indexer] = value instead\n",
      "\n",
      "See the caveats in the documentation: https://pandas.pydata.org/pandas-docs/stable/user_guide/indexing.html#returning-a-view-versus-a-copy\n",
      "  st['Date']=st['Date'].map(dt.datetime.toordinal)\n",
      "C:\\Users\\Lakshay\\AppData\\Local\\Temp/ipykernel_5252/3223460784.py:5: SettingWithCopyWarning: \n",
      "A value is trying to be set on a copy of a slice from a DataFrame.\n",
      "Try using .loc[row_indexer,col_indexer] = value instead\n",
      "\n",
      "See the caveats in the documentation: https://pandas.pydata.org/pandas-docs/stable/user_guide/indexing.html#returning-a-view-versus-a-copy\n",
      "  st['Date']=st['Date'].map(dt.datetime.toordinal)\n",
      "C:\\Users\\Lakshay\\AppData\\Local\\Temp/ipykernel_5252/3223460784.py:5: SettingWithCopyWarning: \n",
      "A value is trying to be set on a copy of a slice from a DataFrame.\n",
      "Try using .loc[row_indexer,col_indexer] = value instead\n",
      "\n",
      "See the caveats in the documentation: https://pandas.pydata.org/pandas-docs/stable/user_guide/indexing.html#returning-a-view-versus-a-copy\n",
      "  st['Date']=st['Date'].map(dt.datetime.toordinal)\n",
      "C:\\Users\\Lakshay\\AppData\\Local\\Temp/ipykernel_5252/3223460784.py:5: SettingWithCopyWarning: \n",
      "A value is trying to be set on a copy of a slice from a DataFrame.\n",
      "Try using .loc[row_indexer,col_indexer] = value instead\n",
      "\n",
      "See the caveats in the documentation: https://pandas.pydata.org/pandas-docs/stable/user_guide/indexing.html#returning-a-view-versus-a-copy\n",
      "  st['Date']=st['Date'].map(dt.datetime.toordinal)\n",
      "C:\\Users\\Lakshay\\AppData\\Local\\Temp/ipykernel_5252/3223460784.py:5: SettingWithCopyWarning: \n",
      "A value is trying to be set on a copy of a slice from a DataFrame.\n",
      "Try using .loc[row_indexer,col_indexer] = value instead\n",
      "\n",
      "See the caveats in the documentation: https://pandas.pydata.org/pandas-docs/stable/user_guide/indexing.html#returning-a-view-versus-a-copy\n",
      "  st['Date']=st['Date'].map(dt.datetime.toordinal)\n"
     ]
    }
   ],
   "source": [
    "for i in States:\n",
    "    \n",
    "    st=f[f.State_Name ==i]\n",
    "    import datetime as dt\n",
    "    st['Date']=st['Date'].map(dt.datetime.toordinal)\n",
    "    from sklearn.model_selection import train_test_split\n",
    "    x=st['Date']\n",
    "    y=st['Confirmed']\n",
    "    X_train,X_test,y_train,y_test=train_test_split(x,y,test_size=0.2)\n",
    "    from sklearn.linear_model import LinearRegression\n",
    "    regressor=LinearRegression(fit_intercept=True)\n",
    "    regressor.fit(np.array(X_train).reshape(-1,1),np.array(y_train).reshape(-1,1))\n",
    "    #sns.relplot(x='Date',y='Confirmed',data=st, kind=\"line\", col=\"State_Name\")\n",
    "    #Z=plt.plot(X_train,regressor.predict(np.array(X_train).reshape(-1,1)), color='blue')\n",
    "    #ABC=regressor.predict(np.array([[757487]]))\n",
    "    #print(i,ABC)\n",
    "    \n"
   ]
  },
  {
   "cell_type": "code",
   "execution_count": 33,
   "id": "9fa3b5f4",
   "metadata": {},
   "outputs": [
    {
     "name": "stdout",
     "output_type": "stream",
     "text": [
      "Enter a date in format YYYY-MM-DD2020-12-01\n",
      "737760\n",
      "MAXIMUM Predicted Number Of Cases(IF NO GUIDELINES ARE FOLLOWED) in Maharashtra using LINEAR REGRESSION for next 7 days from 2020-12-01 are:\n",
      "1 : [[17278.04307132]]\n",
      "Approximately [[17278.04307132]] daily\n",
      "2 : [[17351.59750246]]\n",
      "Approximately [[17314.82028689]] daily\n",
      "3 : [[17425.1519336]]\n",
      "Approximately [[17351.59750246]] daily\n",
      "4 : [[17498.70636474]]\n",
      "Approximately [[17388.37471803]] daily\n",
      "5 : [[17572.26079588]]\n",
      "Approximately [[17425.1519336]] daily\n",
      "6 : [[17645.81522702]]\n",
      "Approximately [[17461.92914917]] daily\n",
      "7 : [[17719.36965816]]\n",
      "Approximately [[17498.70636474]] daily\n",
      "MAXIMUM Predicted Number Of Cases(IF NO GUIDELINES ARE FOLLOWED) in Andhra Pradesh using LINEAR REGRESSION for next 7 days from 2020-12-01 are:\n",
      "1 : [[9258.34053848]]\n",
      "Approximately [[9258.34053848]] daily\n",
      "2 : [[9300.36169798]]\n",
      "Approximately [[9279.35111823]] daily\n",
      "3 : [[9342.38285747]]\n",
      "Approximately [[9300.36169798]] daily\n",
      "4 : [[9384.40401696]]\n",
      "Approximately [[9321.37227772]] daily\n",
      "5 : [[9426.42517645]]\n",
      "Approximately [[9342.38285747]] daily\n",
      "6 : [[9468.44633594]]\n",
      "Approximately [[9363.39343721]] daily\n",
      "7 : [[9510.46749543]]\n",
      "Approximately [[9384.40401696]] daily\n",
      "MAXIMUM Predicted Number Of Cases(IF NO GUIDELINES ARE FOLLOWED) in Karnataka using LINEAR REGRESSION for next 7 days from 2020-12-01 are:\n",
      "1 : [[7455.12271332]]\n",
      "Approximately [[7455.12271332]] daily\n",
      "2 : [[7488.58466148]]\n",
      "Approximately [[7471.8536874]] daily\n",
      "3 : [[7522.04660964]]\n",
      "Approximately [[7488.58466148]] daily\n",
      "4 : [[7555.5085578]]\n",
      "Approximately [[7505.31563556]] daily\n",
      "5 : [[7588.97050596]]\n",
      "Approximately [[7522.04660964]] daily\n",
      "6 : [[7622.43245412]]\n",
      "Approximately [[7538.77758372]] daily\n",
      "7 : [[7655.89440229]]\n",
      "Approximately [[7555.5085578]] daily\n",
      "MAXIMUM Predicted Number Of Cases(IF NO GUIDELINES ARE FOLLOWED) in Tamil Nadu using LINEAR REGRESSION for next 7 days from 2020-12-01 are:\n",
      "1 : [[10691.9974985]]\n",
      "Approximately [[10691.9974985]] daily\n",
      "2 : [[10738.45007014]]\n",
      "Approximately [[10715.22378432]] daily\n",
      "3 : [[10784.90264179]]\n",
      "Approximately [[10738.45007014]] daily\n",
      "4 : [[10831.35521343]]\n",
      "Approximately [[10761.67635597]] daily\n",
      "5 : [[10877.80778508]]\n",
      "Approximately [[10784.90264179]] daily\n",
      "6 : [[10924.26035672]]\n",
      "Approximately [[10808.12892761]] daily\n",
      "7 : [[10970.71292837]]\n",
      "Approximately [[10831.35521343]] daily\n",
      "MAXIMUM Predicted Number Of Cases(IF NO GUIDELINES ARE FOLLOWED) in Uttar Pradesh using LINEAR REGRESSION for next 7 days from 2020-12-01 are:\n",
      "1 : [[4603.57608172]]\n",
      "Approximately [[4603.57608172]] daily\n",
      "2 : [[4623.94466469]]\n",
      "Approximately [[4613.76037321]] daily\n",
      "3 : [[4644.31324767]]\n",
      "Approximately [[4623.94466469]] daily\n",
      "4 : [[4664.68183065]]\n",
      "Approximately [[4634.12895618]] daily\n",
      "5 : [[4685.05041362]]\n",
      "Approximately [[4644.31324767]] daily\n",
      "6 : [[4705.4189966]]\n",
      "Approximately [[4654.49753916]] daily\n",
      "7 : [[4725.78757958]]\n",
      "Approximately [[4664.68183065]] daily\n"
     ]
    },
    {
     "name": "stderr",
     "output_type": "stream",
     "text": [
      "C:\\Users\\Lakshay\\AppData\\Local\\Temp/ipykernel_5252/2950755556.py:11: SettingWithCopyWarning: \n",
      "A value is trying to be set on a copy of a slice from a DataFrame.\n",
      "Try using .loc[row_indexer,col_indexer] = value instead\n",
      "\n",
      "See the caveats in the documentation: https://pandas.pydata.org/pandas-docs/stable/user_guide/indexing.html#returning-a-view-versus-a-copy\n",
      "  st['Date']=st['Date'].map(dt.datetime.toordinal)\n",
      "C:\\Users\\Lakshay\\AppData\\Local\\Temp/ipykernel_5252/2950755556.py:11: SettingWithCopyWarning: \n",
      "A value is trying to be set on a copy of a slice from a DataFrame.\n",
      "Try using .loc[row_indexer,col_indexer] = value instead\n",
      "\n",
      "See the caveats in the documentation: https://pandas.pydata.org/pandas-docs/stable/user_guide/indexing.html#returning-a-view-versus-a-copy\n",
      "  st['Date']=st['Date'].map(dt.datetime.toordinal)\n",
      "C:\\Users\\Lakshay\\AppData\\Local\\Temp/ipykernel_5252/2950755556.py:11: SettingWithCopyWarning: \n",
      "A value is trying to be set on a copy of a slice from a DataFrame.\n",
      "Try using .loc[row_indexer,col_indexer] = value instead\n",
      "\n",
      "See the caveats in the documentation: https://pandas.pydata.org/pandas-docs/stable/user_guide/indexing.html#returning-a-view-versus-a-copy\n",
      "  st['Date']=st['Date'].map(dt.datetime.toordinal)\n",
      "C:\\Users\\Lakshay\\AppData\\Local\\Temp/ipykernel_5252/2950755556.py:11: SettingWithCopyWarning: \n",
      "A value is trying to be set on a copy of a slice from a DataFrame.\n",
      "Try using .loc[row_indexer,col_indexer] = value instead\n",
      "\n",
      "See the caveats in the documentation: https://pandas.pydata.org/pandas-docs/stable/user_guide/indexing.html#returning-a-view-versus-a-copy\n",
      "  st['Date']=st['Date'].map(dt.datetime.toordinal)\n",
      "C:\\Users\\Lakshay\\AppData\\Local\\Temp/ipykernel_5252/2950755556.py:11: SettingWithCopyWarning: \n",
      "A value is trying to be set on a copy of a slice from a DataFrame.\n",
      "Try using .loc[row_indexer,col_indexer] = value instead\n",
      "\n",
      "See the caveats in the documentation: https://pandas.pydata.org/pandas-docs/stable/user_guide/indexing.html#returning-a-view-versus-a-copy\n",
      "  st['Date']=st['Date'].map(dt.datetime.toordinal)\n"
     ]
    }
   ],
   "source": [
    "Value1=input(\"Enter a date in format YYYY-MM-DD\")\n",
    "from datetime import datetime\n",
    "ordinalvalue1 = dt.datetime.strptime(Value1, '%Y-%m-%d').date()\n",
    "oa=ordinalvalue1.toordinal()\n",
    "print(oa)\n",
    "if oa>=737504:\n",
    "    for i in States:\n",
    "    \n",
    "        st=f[f.State_Name ==i]\n",
    "        import datetime as dt\n",
    "        st['Date']=st['Date'].map(dt.datetime.toordinal)\n",
    "        from sklearn.model_selection import train_test_split\n",
    "        x=st['Date']\n",
    "        y=st['Confirmed']\n",
    "        X_train,X_test,y_train,y_test=train_test_split(x,y,test_size=0.2)\n",
    "        from sklearn.linear_model import LinearRegression\n",
    "        regressor=LinearRegression(fit_intercept=True)\n",
    "        regressor.fit(np.array(X_train).reshape(-1,1),np.array(y_train).reshape(-1,1))\n",
    "        #sns.relplot(x='Date',y='Confirmed',data=st, kind=\"line\", col=\"State_Name\")\n",
    "        #Z=plt.plot(X_train,regressor.predict(np.array(X_train).reshape(-1,1)), color='blue')\n",
    "        #ABC=regressor.predict(np.array([[737639]]))\n",
    "        #print(i,ABC)\n",
    "    \n",
    "        #PREDICTION OF NUMBER OF CONFIRMED CASES FOR NEXT 1 WEEK\n",
    "    \n",
    "        print(\"MAXIMUM Predicted Number Of Cases(IF NO GUIDELINES ARE FOLLOWED) in\",i, \"using LINEAR REGRESSION for next 7 days from\",Value1,'are:')\n",
    "        sum1=0\n",
    "        days1=0\n",
    "        for ka in range(0,7):\n",
    "            Predict1=regressor.predict(np.array(oa+ka).reshape(-1,1))\n",
    "    \n",
    "            if Predict1<=0:\n",
    "        \n",
    "                print(ka+1,'Somewhere between 0 to a finite number near to next day')\n",
    "            else:    \n",
    "                print(ka+1,':',Predict1)\n",
    "                sum1+=Predict1\n",
    "                days1=days1+1\n",
    "                print(\"Approximately\",sum1/days1,\"daily\")\n",
    "else:\n",
    "    print(\"Coronavirus did not start beyond this date,please enter a valid date to forecast the number of cases\")\n",
    "            \n",
    "\n"
   ]
  },
  {
   "cell_type": "code",
   "execution_count": 34,
   "id": "3f30d3a6",
   "metadata": {},
   "outputs": [],
   "source": [
    "from sklearn.preprocessing import PolynomialFeatures\n",
    "poly_regressor=PolynomialFeatures(degree=3)"
   ]
  },
  {
   "cell_type": "code",
   "execution_count": 35,
   "id": "8d282c5e",
   "metadata": {},
   "outputs": [
    {
     "name": "stdout",
     "output_type": "stream",
     "text": [
      "Model's coefficient are: [ 0.00000000e+00 -5.26658582e-07 -3.63551708e-01  3.28615681e-07]\n"
     ]
    }
   ],
   "source": [
    "X_columns=poly_regressor.fit_transform(np.array(X_train).reshape(-1,1))\n",
    "regressor=LinearRegression()\n",
    "regressor.fit(X_columns,y_train)\n",
    "print(\"Model's coefficient are:\",regressor.coef_)"
   ]
  },
  {
   "cell_type": "code",
   "execution_count": 36,
   "id": "15ea46a2",
   "metadata": {},
   "outputs": [],
   "source": [
    "#y_predict=regressor.predict(poly_regressor.fit_transform(np.array(X_train).reshape(-1,1)))\n",
    "#plt.scatter(X_train,y_train)\n",
    "#plt.xlabel(\"Date\")\n",
    "#plt.ylabel(\"Confirmed\")\n",
    "#plt.plot(np.sort(X_train),y_predict[np.argsort(X_train)].reshape(-1,1),color='red')"
   ]
  },
  {
   "cell_type": "code",
   "execution_count": 37,
   "id": "f234313e",
   "metadata": {},
   "outputs": [
    {
     "name": "stdout",
     "output_type": "stream",
     "text": [
      " POLYNOMIAL REGRESSION MODEL FOR TOP STATES\n"
     ]
    },
    {
     "name": "stderr",
     "output_type": "stream",
     "text": [
      "C:\\Users\\Lakshay\\AppData\\Local\\Temp/ipykernel_5252/923274380.py:12: SettingWithCopyWarning: \n",
      "A value is trying to be set on a copy of a slice from a DataFrame.\n",
      "Try using .loc[row_indexer,col_indexer] = value instead\n",
      "\n",
      "See the caveats in the documentation: https://pandas.pydata.org/pandas-docs/stable/user_guide/indexing.html#returning-a-view-versus-a-copy\n",
      "  st['Date']=st['Date'].map(dt.datetime.toordinal)\n",
      "C:\\Users\\Lakshay\\AppData\\Local\\Temp/ipykernel_5252/923274380.py:12: SettingWithCopyWarning: \n",
      "A value is trying to be set on a copy of a slice from a DataFrame.\n",
      "Try using .loc[row_indexer,col_indexer] = value instead\n",
      "\n",
      "See the caveats in the documentation: https://pandas.pydata.org/pandas-docs/stable/user_guide/indexing.html#returning-a-view-versus-a-copy\n",
      "  st['Date']=st['Date'].map(dt.datetime.toordinal)\n",
      "C:\\Users\\Lakshay\\AppData\\Local\\Temp/ipykernel_5252/923274380.py:12: SettingWithCopyWarning: \n",
      "A value is trying to be set on a copy of a slice from a DataFrame.\n",
      "Try using .loc[row_indexer,col_indexer] = value instead\n",
      "\n",
      "See the caveats in the documentation: https://pandas.pydata.org/pandas-docs/stable/user_guide/indexing.html#returning-a-view-versus-a-copy\n",
      "  st['Date']=st['Date'].map(dt.datetime.toordinal)\n",
      "C:\\Users\\Lakshay\\AppData\\Local\\Temp/ipykernel_5252/923274380.py:12: SettingWithCopyWarning: \n",
      "A value is trying to be set on a copy of a slice from a DataFrame.\n",
      "Try using .loc[row_indexer,col_indexer] = value instead\n",
      "\n",
      "See the caveats in the documentation: https://pandas.pydata.org/pandas-docs/stable/user_guide/indexing.html#returning-a-view-versus-a-copy\n",
      "  st['Date']=st['Date'].map(dt.datetime.toordinal)\n",
      "C:\\Users\\Lakshay\\AppData\\Local\\Temp/ipykernel_5252/923274380.py:12: SettingWithCopyWarning: \n",
      "A value is trying to be set on a copy of a slice from a DataFrame.\n",
      "Try using .loc[row_indexer,col_indexer] = value instead\n",
      "\n",
      "See the caveats in the documentation: https://pandas.pydata.org/pandas-docs/stable/user_guide/indexing.html#returning-a-view-versus-a-copy\n",
      "  st['Date']=st['Date'].map(dt.datetime.toordinal)\n"
     ]
    }
   ],
   "source": [
    "print(\" POLYNOMIAL REGRESSION MODEL FOR TOP STATES\")\n",
    "from sklearn.preprocessing import PolynomialFeatures\n",
    "polyy_regressor=PolynomialFeatures(degree=3)\n",
    "X_columns=polyy_regressor.fit_transform(np.array(X_train).reshape(-1,1))\n",
    "regressorr=LinearRegression()\n",
    "#regressorr.fit(X_columns,y_train)\n",
    "#print(\"Model's coefficient are:\",regressor.coef_)\n",
    "for i in States:\n",
    "    \n",
    "    st=f[f.State_Name ==i]\n",
    "    import datetime as dt\n",
    "    st['Date']=st['Date'].map(dt.datetime.toordinal)\n",
    "    from sklearn.model_selection import train_test_split\n",
    "    x111=st['Date']\n",
    "    y111=st['Confirmed']\n",
    "    X_train111,X_test111,y_train111,y_test111=train_test_split(x111,y111,test_size=0.2)\n",
    "    from sklearn.linear_model import LinearRegression\n",
    "    regressorr=LinearRegression(fit_intercept=True)\n",
    "    regressorr.fit(np.array(X_train111).reshape(-1,1),np.array(y_train111).reshape(-1,1))\n",
    "    #sns.relplot(x='Date',y='Confirmed',data=st, kind=\"line\", col=\"State_Name\")\n",
    "    \n",
    "    #yapredict=regressor.predict(poly_regressor.fit_transform(np.array(X_train).reshape(-1,1)))\n",
    "    #plt.plot(np.sort(X_train),yapredict[np.argsort(X_train)].reshape(-1,1),color='red')\n",
    "    #ABC=regressor.predict(np.array([[737639]]))\n",
    "    #print(i,ABC)\n",
    "    #sns.lmplot(x=\"Date\", y=\"Confirmed\",data=st ,order=3, ci=None, scatter_kws={\"s\": 10});\n",
    "    \n"
   ]
  },
  {
   "cell_type": "code",
   "execution_count": 38,
   "id": "1bc82c21",
   "metadata": {},
   "outputs": [
    {
     "name": "stdout",
     "output_type": "stream",
     "text": [
      "Model for state ['Maharashtra', 'Andhra Pradesh', 'Karnataka', 'Tamil Nadu', 'Uttar Pradesh'] is:\n"
     ]
    },
    {
     "name": "stderr",
     "output_type": "stream",
     "text": [
      "C:\\Users\\Lakshay\\AppData\\Local\\Temp/ipykernel_5252/1314404919.py:6: SettingWithCopyWarning: \n",
      "A value is trying to be set on a copy of a slice from a DataFrame.\n",
      "Try using .loc[row_indexer,col_indexer] = value instead\n",
      "\n",
      "See the caveats in the documentation: https://pandas.pydata.org/pandas-docs/stable/user_guide/indexing.html#returning-a-view-versus-a-copy\n",
      "  st['Date']=st['Date'].map(dt.datetime.toordinal)\n",
      "C:\\Users\\Lakshay\\anaconda\\lib\\site-packages\\seaborn\\regression.py:256: RankWarning: Polyfit may be poorly conditioned\n",
      "  yhat = reg_func(x, y)\n",
      "C:\\Users\\Lakshay\\AppData\\Local\\Temp/ipykernel_5252/1314404919.py:6: SettingWithCopyWarning: \n",
      "A value is trying to be set on a copy of a slice from a DataFrame.\n",
      "Try using .loc[row_indexer,col_indexer] = value instead\n",
      "\n",
      "See the caveats in the documentation: https://pandas.pydata.org/pandas-docs/stable/user_guide/indexing.html#returning-a-view-versus-a-copy\n",
      "  st['Date']=st['Date'].map(dt.datetime.toordinal)\n",
      "C:\\Users\\Lakshay\\anaconda\\lib\\site-packages\\seaborn\\regression.py:256: RankWarning: Polyfit may be poorly conditioned\n",
      "  yhat = reg_func(x, y)\n",
      "C:\\Users\\Lakshay\\AppData\\Local\\Temp/ipykernel_5252/1314404919.py:6: SettingWithCopyWarning: \n",
      "A value is trying to be set on a copy of a slice from a DataFrame.\n",
      "Try using .loc[row_indexer,col_indexer] = value instead\n",
      "\n",
      "See the caveats in the documentation: https://pandas.pydata.org/pandas-docs/stable/user_guide/indexing.html#returning-a-view-versus-a-copy\n",
      "  st['Date']=st['Date'].map(dt.datetime.toordinal)\n",
      "C:\\Users\\Lakshay\\anaconda\\lib\\site-packages\\seaborn\\regression.py:256: RankWarning: Polyfit may be poorly conditioned\n",
      "  yhat = reg_func(x, y)\n",
      "C:\\Users\\Lakshay\\AppData\\Local\\Temp/ipykernel_5252/1314404919.py:6: SettingWithCopyWarning: \n",
      "A value is trying to be set on a copy of a slice from a DataFrame.\n",
      "Try using .loc[row_indexer,col_indexer] = value instead\n",
      "\n",
      "See the caveats in the documentation: https://pandas.pydata.org/pandas-docs/stable/user_guide/indexing.html#returning-a-view-versus-a-copy\n",
      "  st['Date']=st['Date'].map(dt.datetime.toordinal)\n",
      "C:\\Users\\Lakshay\\anaconda\\lib\\site-packages\\seaborn\\regression.py:256: RankWarning: Polyfit may be poorly conditioned\n",
      "  yhat = reg_func(x, y)\n",
      "C:\\Users\\Lakshay\\AppData\\Local\\Temp/ipykernel_5252/1314404919.py:6: SettingWithCopyWarning: \n",
      "A value is trying to be set on a copy of a slice from a DataFrame.\n",
      "Try using .loc[row_indexer,col_indexer] = value instead\n",
      "\n",
      "See the caveats in the documentation: https://pandas.pydata.org/pandas-docs/stable/user_guide/indexing.html#returning-a-view-versus-a-copy\n",
      "  st['Date']=st['Date'].map(dt.datetime.toordinal)\n",
      "C:\\Users\\Lakshay\\anaconda\\lib\\site-packages\\seaborn\\regression.py:256: RankWarning: Polyfit may be poorly conditioned\n",
      "  yhat = reg_func(x, y)\n"
     ]
    },
    {
     "data": {
      "image/png": "[encoded data removed]",
      "text/plain": [
       "<Figure size 360x360 with 1 Axes>"
      ]
     },
     "metadata": {
      "needs_background": "light"
     },
     "output_type": "display_data"
    },
    {
     "data": {
      "image/png": "[encoded data removed]",
      "text/plain": [
       "<Figure size 360x360 with 1 Axes>"
      ]
     },
     "metadata": {
      "needs_background": "light"
     },
     "output_type": "display_data"
    },
    {
     "data": {
      "image/png": "[encoded data removed]",
      "text/plain": [
       "<Figure size 360x360 with 1 Axes>"
      ]
     },
     "metadata": {
      "needs_background": "light"
     },
     "output_type": "display_data"
    },
    {
     "data": {
      "image/png": "[encoded data removed]",
      "text/plain": [
       "<Figure size 360x360 with 1 Axes>"
      ]
     },
     "metadata": {
      "needs_background": "light"
     },
     "output_type": "display_data"
    },
    {
     "data": {
      "image/png": "[encoded data removed]",
      "text/plain": [
       "<Figure size 360x360 with 1 Axes>"
      ]
     },
     "metadata": {
      "needs_background": "light"
     },
     "output_type": "display_data"
    }
   ],
   "source": [
    "print(\"Model for state\", States , \"is:\")\n",
    "for i in States:\n",
    "    \n",
    "    st=f[f.State_Name ==i]\n",
    "    import datetime as dt\n",
    "    st['Date']=st['Date'].map(dt.datetime.toordinal)\n",
    "    from sklearn.model_selection import train_test_split\n",
    "    x111=st['Date']\n",
    "    y111=st['Confirmed']\n",
    "    X_train111,X_test111,y_train111,y_test111=train_test_split(x111,y111,test_size=0.2)\n",
    "    from sklearn.linear_model import LinearRegression\n",
    "    regressorr=LinearRegression(fit_intercept=True)\n",
    "    regressorr.fit(np.array(X_train111).reshape(-1,1),np.array(y_train111).reshape(-1,1))\n",
    "    #sns.relplot(x='Date',y='Confirmed',data=st, kind=\"line\", col=\"State_Name\")\n",
    "    \n",
    "    #yapredict=regressor.predict(poly_regressor.fit_transform(np.array(X_train).reshape(-1,1)))\n",
    "    #plt.plot(np.sort(X_train),yapredict[np.argsort(X_train)].reshape(-1,1),color='red')\n",
    "    #ABC=regressor.predict(np.array([[737639]]))\n",
    "    #print(i,ABC)\n",
    "    sns.lmplot(x=\"Date\", y=\"Confirmed\",data=st ,order=3, ci=None, scatter_kws={\"s\": 10});\n",
    "    \n",
    "    #print(\"Model's coefficient for state\", i , \"is:\",regressorr.coef_)"
   ]
  },
  {
   "cell_type": "code",
   "execution_count": null,
   "id": "0dab4675",
   "metadata": {},
   "outputs": [],
   "source": [
    "r = requests.get('https://coronavirus-19-api.herokuapp.com/all')\n",
    "\n",
    "data = r.json()\n",
    "text = f'Confirmed Cases : {data[\"cases\"]} \\nDeaths : {data[\"deaths\"]} \\nRecovered : {data[\"recovered\"]}'\n",
    "\n",
    "while True:\n",
    "    toast = ToastNotifier()\n",
    "    toast.show_toast(\"Covid-19 Notification WORLDWIDE-NTCC PROJECT\",text ,duration=5)\n",
    "    sleep(60)\n"
   ]
  },
  {
   "cell_type": "code",
   "execution_count": null,
   "id": "3e5cb272",
   "metadata": {},
   "outputs": [],
   "source": []
  }
 ],
 "metadata": {
  "kernelspec": {
   "display_name": "Python 3 (ipykernel)",
   "language": "python",
   "name": "python3"
  },
  "language_info": {
   "codemirror_mode": {
    "name": "ipython",
    "version": 3
   },
   "file_extension": ".py",
   "mimetype": "text/x-python",
   "name": "python",
   "nbconvert_exporter": "python",
   "pygments_lexer": "ipython3",
   "version": "3.9.7"
  }
 },
 "nbformat": 4,
 "nbformat_minor": 5
}
